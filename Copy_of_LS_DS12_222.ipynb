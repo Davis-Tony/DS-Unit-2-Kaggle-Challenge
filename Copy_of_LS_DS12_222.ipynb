{
  "nbformat": 4,
  "nbformat_minor": 0,
  "metadata": {
    "kernelspec": {
      "display_name": "Python 3",
      "language": "python",
      "name": "python3"
    },
    "language_info": {
      "codemirror_mode": {
        "name": "ipython",
        "version": 3
      },
      "file_extension": ".py",
      "mimetype": "text/x-python",
      "name": "python",
      "nbconvert_exporter": "python",
      "pygments_lexer": "ipython3",
      "version": "3.7.3"
    },
    "colab": {
      "name": "Copy of LS_DS12_222.ipynb",
      "provenance": [],
      "include_colab_link": true
    },
    "widgets": {
      "application/vnd.jupyter.widget-state+json": {
        "b59aaf9487754eea800b4fc9624cd319": {
          "model_module": "@jupyter-widgets/controls",
          "model_name": "VBoxModel",
          "state": {
            "_view_name": "VBoxView",
            "_dom_classes": [
              "widget-interact"
            ],
            "_model_name": "VBoxModel",
            "_view_module": "@jupyter-widgets/controls",
            "_model_module_version": "1.5.0",
            "_view_count": null,
            "_view_module_version": "1.5.0",
            "box_style": "",
            "layout": "IPY_MODEL_09403b9213124c3aa85c18bdb14691e4",
            "_model_module": "@jupyter-widgets/controls",
            "children": [
              "IPY_MODEL_10bfc64a33fe47c8bf443023667b5035",
              "IPY_MODEL_535f70d3a247436186028baceebbcd98",
              "IPY_MODEL_cf8921b2df74441896d88b91682233c7"
            ]
          }
        },
        "09403b9213124c3aa85c18bdb14691e4": {
          "model_module": "@jupyter-widgets/base",
          "model_name": "LayoutModel",
          "state": {
            "_view_name": "LayoutView",
            "grid_template_rows": null,
            "right": null,
            "justify_content": null,
            "_view_module": "@jupyter-widgets/base",
            "overflow": null,
            "_model_module_version": "1.2.0",
            "_view_count": null,
            "flex_flow": null,
            "width": null,
            "min_width": null,
            "border": null,
            "align_items": null,
            "bottom": null,
            "_model_module": "@jupyter-widgets/base",
            "top": null,
            "grid_column": null,
            "overflow_y": null,
            "overflow_x": null,
            "grid_auto_flow": null,
            "grid_area": null,
            "grid_template_columns": null,
            "flex": null,
            "_model_name": "LayoutModel",
            "justify_items": null,
            "grid_row": null,
            "max_height": null,
            "align_content": null,
            "visibility": null,
            "align_self": null,
            "height": null,
            "min_height": null,
            "padding": null,
            "grid_auto_rows": null,
            "grid_gap": null,
            "max_width": null,
            "order": null,
            "_view_module_version": "1.2.0",
            "grid_template_areas": null,
            "object_position": null,
            "object_fit": null,
            "grid_auto_columns": null,
            "margin": null,
            "display": null,
            "left": null
          }
        },
        "10bfc64a33fe47c8bf443023667b5035": {
          "model_module": "@jupyter-widgets/controls",
          "model_name": "IntSliderModel",
          "state": {
            "_view_name": "IntSliderView",
            "style": "IPY_MODEL_da3bbb93c21142c8a34080e19ce0741a",
            "_dom_classes": [],
            "description": "max_depth",
            "step": 1,
            "_model_name": "IntSliderModel",
            "orientation": "horizontal",
            "max": 6,
            "_view_module": "@jupyter-widgets/controls",
            "_model_module_version": "1.5.0",
            "value": 1,
            "_view_count": null,
            "disabled": false,
            "_view_module_version": "1.5.0",
            "min": 1,
            "continuous_update": true,
            "readout_format": "d",
            "description_tooltip": null,
            "readout": true,
            "_model_module": "@jupyter-widgets/controls",
            "layout": "IPY_MODEL_c66c3e8e63aa477dad1f9bfe386a7d49"
          }
        },
        "535f70d3a247436186028baceebbcd98": {
          "model_module": "@jupyter-widgets/controls",
          "model_name": "IntSliderModel",
          "state": {
            "_view_name": "IntSliderView",
            "style": "IPY_MODEL_b7834655d12143359bd699d1548c5a7a",
            "_dom_classes": [],
            "description": "n_estimators",
            "step": 10,
            "_model_name": "IntSliderModel",
            "orientation": "horizontal",
            "max": 40,
            "_view_module": "@jupyter-widgets/controls",
            "_model_module_version": "1.5.0",
            "value": 10,
            "_view_count": null,
            "disabled": false,
            "_view_module_version": "1.5.0",
            "min": 10,
            "continuous_update": true,
            "readout_format": "d",
            "description_tooltip": null,
            "readout": true,
            "_model_module": "@jupyter-widgets/controls",
            "layout": "IPY_MODEL_b790452d6b844143818faa8219925611"
          }
        },
        "cf8921b2df74441896d88b91682233c7": {
          "model_module": "@jupyter-widgets/output",
          "model_name": "OutputModel",
          "state": {
            "_view_name": "OutputView",
            "msg_id": "",
            "_dom_classes": [],
            "_model_name": "OutputModel",
            "outputs": [
              {
                "output_type": "display_data",
                "metadata": {
                  "tags": [],
                  "needs_background": "light"
                },
                "image/png": "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\n",
                "text/plain": "<Figure size 432x288 with 1 Axes>"
              },
              {
                "output_type": "display_data",
                "metadata": {
                  "tags": [],
                  "needs_background": "light"
                },
                "image/png": "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\n",
                "text/plain": "<Figure size 432x288 with 1 Axes>"
              }
            ],
            "_view_module": "@jupyter-widgets/output",
            "_model_module_version": "1.0.0",
            "_view_count": null,
            "_view_module_version": "1.0.0",
            "layout": "IPY_MODEL_3ae1cea82d4c4afd8c36ae0b0b083e05",
            "_model_module": "@jupyter-widgets/output"
          }
        },
        "da3bbb93c21142c8a34080e19ce0741a": {
          "model_module": "@jupyter-widgets/controls",
          "model_name": "SliderStyleModel",
          "state": {
            "_view_name": "StyleView",
            "handle_color": null,
            "_model_name": "SliderStyleModel",
            "description_width": "",
            "_view_module": "@jupyter-widgets/base",
            "_model_module_version": "1.5.0",
            "_view_count": null,
            "_view_module_version": "1.2.0",
            "_model_module": "@jupyter-widgets/controls"
          }
        },
        "c66c3e8e63aa477dad1f9bfe386a7d49": {
          "model_module": "@jupyter-widgets/base",
          "model_name": "LayoutModel",
          "state": {
            "_view_name": "LayoutView",
            "grid_template_rows": null,
            "right": null,
            "justify_content": null,
            "_view_module": "@jupyter-widgets/base",
            "overflow": null,
            "_model_module_version": "1.2.0",
            "_view_count": null,
            "flex_flow": null,
            "width": null,
            "min_width": null,
            "border": null,
            "align_items": null,
            "bottom": null,
            "_model_module": "@jupyter-widgets/base",
            "top": null,
            "grid_column": null,
            "overflow_y": null,
            "overflow_x": null,
            "grid_auto_flow": null,
            "grid_area": null,
            "grid_template_columns": null,
            "flex": null,
            "_model_name": "LayoutModel",
            "justify_items": null,
            "grid_row": null,
            "max_height": null,
            "align_content": null,
            "visibility": null,
            "align_self": null,
            "height": null,
            "min_height": null,
            "padding": null,
            "grid_auto_rows": null,
            "grid_gap": null,
            "max_width": null,
            "order": null,
            "_view_module_version": "1.2.0",
            "grid_template_areas": null,
            "object_position": null,
            "object_fit": null,
            "grid_auto_columns": null,
            "margin": null,
            "display": null,
            "left": null
          }
        },
        "b7834655d12143359bd699d1548c5a7a": {
          "model_module": "@jupyter-widgets/controls",
          "model_name": "SliderStyleModel",
          "state": {
            "_view_name": "StyleView",
            "handle_color": null,
            "_model_name": "SliderStyleModel",
            "description_width": "",
            "_view_module": "@jupyter-widgets/base",
            "_model_module_version": "1.5.0",
            "_view_count": null,
            "_view_module_version": "1.2.0",
            "_model_module": "@jupyter-widgets/controls"
          }
        },
        "b790452d6b844143818faa8219925611": {
          "model_module": "@jupyter-widgets/base",
          "model_name": "LayoutModel",
          "state": {
            "_view_name": "LayoutView",
            "grid_template_rows": null,
            "right": null,
            "justify_content": null,
            "_view_module": "@jupyter-widgets/base",
            "overflow": null,
            "_model_module_version": "1.2.0",
            "_view_count": null,
            "flex_flow": null,
            "width": null,
            "min_width": null,
            "border": null,
            "align_items": null,
            "bottom": null,
            "_model_module": "@jupyter-widgets/base",
            "top": null,
            "grid_column": null,
            "overflow_y": null,
            "overflow_x": null,
            "grid_auto_flow": null,
            "grid_area": null,
            "grid_template_columns": null,
            "flex": null,
            "_model_name": "LayoutModel",
            "justify_items": null,
            "grid_row": null,
            "max_height": null,
            "align_content": null,
            "visibility": null,
            "align_self": null,
            "height": null,
            "min_height": null,
            "padding": null,
            "grid_auto_rows": null,
            "grid_gap": null,
            "max_width": null,
            "order": null,
            "_view_module_version": "1.2.0",
            "grid_template_areas": null,
            "object_position": null,
            "object_fit": null,
            "grid_auto_columns": null,
            "margin": null,
            "display": null,
            "left": null
          }
        },
        "3ae1cea82d4c4afd8c36ae0b0b083e05": {
          "model_module": "@jupyter-widgets/base",
          "model_name": "LayoutModel",
          "state": {
            "_view_name": "LayoutView",
            "grid_template_rows": null,
            "right": null,
            "justify_content": null,
            "_view_module": "@jupyter-widgets/base",
            "overflow": null,
            "_model_module_version": "1.2.0",
            "_view_count": null,
            "flex_flow": null,
            "width": null,
            "min_width": null,
            "border": null,
            "align_items": null,
            "bottom": null,
            "_model_module": "@jupyter-widgets/base",
            "top": null,
            "grid_column": null,
            "overflow_y": null,
            "overflow_x": null,
            "grid_auto_flow": null,
            "grid_area": null,
            "grid_template_columns": null,
            "flex": null,
            "_model_name": "LayoutModel",
            "justify_items": null,
            "grid_row": null,
            "max_height": null,
            "align_content": null,
            "visibility": null,
            "align_self": null,
            "height": null,
            "min_height": null,
            "padding": null,
            "grid_auto_rows": null,
            "grid_gap": null,
            "max_width": null,
            "order": null,
            "_view_module_version": "1.2.0",
            "grid_template_areas": null,
            "object_position": null,
            "object_fit": null,
            "grid_auto_columns": null,
            "margin": null,
            "display": null,
            "left": null
          }
        },
        "660573ae5d624e65bac2003117885a01": {
          "model_module": "@jupyter-widgets/controls",
          "model_name": "VBoxModel",
          "state": {
            "_view_name": "VBoxView",
            "_dom_classes": [
              "widget-interact"
            ],
            "_model_name": "VBoxModel",
            "_view_module": "@jupyter-widgets/controls",
            "_model_module_version": "1.5.0",
            "_view_count": null,
            "_view_module_version": "1.5.0",
            "box_style": "",
            "layout": "IPY_MODEL_bb7f9a10be564c12a5737e67290e093e",
            "_model_module": "@jupyter-widgets/controls",
            "children": [
              "IPY_MODEL_8e82ed30fba0433ea7e43c26a89dfa64",
              "IPY_MODEL_0db5a41fc5d642178b412d4616ece29a",
              "IPY_MODEL_8ba38d98241240bb9b8d2e7fea9663a0"
            ]
          }
        },
        "bb7f9a10be564c12a5737e67290e093e": {
          "model_module": "@jupyter-widgets/base",
          "model_name": "LayoutModel",
          "state": {
            "_view_name": "LayoutView",
            "grid_template_rows": null,
            "right": null,
            "justify_content": null,
            "_view_module": "@jupyter-widgets/base",
            "overflow": null,
            "_model_module_version": "1.2.0",
            "_view_count": null,
            "flex_flow": null,
            "width": null,
            "min_width": null,
            "border": null,
            "align_items": null,
            "bottom": null,
            "_model_module": "@jupyter-widgets/base",
            "top": null,
            "grid_column": null,
            "overflow_y": null,
            "overflow_x": null,
            "grid_auto_flow": null,
            "grid_area": null,
            "grid_template_columns": null,
            "flex": null,
            "_model_name": "LayoutModel",
            "justify_items": null,
            "grid_row": null,
            "max_height": null,
            "align_content": null,
            "visibility": null,
            "align_self": null,
            "height": null,
            "min_height": null,
            "padding": null,
            "grid_auto_rows": null,
            "grid_gap": null,
            "max_width": null,
            "order": null,
            "_view_module_version": "1.2.0",
            "grid_template_areas": null,
            "object_position": null,
            "object_fit": null,
            "grid_auto_columns": null,
            "margin": null,
            "display": null,
            "left": null
          }
        },
        "8e82ed30fba0433ea7e43c26a89dfa64": {
          "model_module": "@jupyter-widgets/controls",
          "model_name": "IntSliderModel",
          "state": {
            "_view_name": "IntSliderView",
            "style": "IPY_MODEL_ec0cf801eb18470fa5f7685f894b05c9",
            "_dom_classes": [],
            "description": "max_depth",
            "step": 1,
            "_model_name": "IntSliderModel",
            "orientation": "horizontal",
            "max": 6,
            "_view_module": "@jupyter-widgets/controls",
            "_model_module_version": "1.5.0",
            "value": 1,
            "_view_count": null,
            "disabled": false,
            "_view_module_version": "1.5.0",
            "min": 1,
            "continuous_update": true,
            "readout_format": "d",
            "description_tooltip": null,
            "readout": true,
            "_model_module": "@jupyter-widgets/controls",
            "layout": "IPY_MODEL_cd899cd117bf414eb09c386216d19195"
          }
        },
        "0db5a41fc5d642178b412d4616ece29a": {
          "model_module": "@jupyter-widgets/controls",
          "model_name": "IntSliderModel",
          "state": {
            "_view_name": "IntSliderView",
            "style": "IPY_MODEL_44e83bde961c41b1bce9ddbd5d74d15a",
            "_dom_classes": [],
            "description": "n_estimators",
            "step": 1,
            "_model_name": "IntSliderModel",
            "orientation": "horizontal",
            "max": 5,
            "_view_module": "@jupyter-widgets/controls",
            "_model_module_version": "1.5.0",
            "value": 2,
            "_view_count": null,
            "disabled": false,
            "_view_module_version": "1.5.0",
            "min": 2,
            "continuous_update": true,
            "readout_format": "d",
            "description_tooltip": null,
            "readout": true,
            "_model_module": "@jupyter-widgets/controls",
            "layout": "IPY_MODEL_6d99ecbd84494ce0b0c60f6d43b57d94"
          }
        },
        "8ba38d98241240bb9b8d2e7fea9663a0": {
          "model_module": "@jupyter-widgets/output",
          "model_name": "OutputModel",
          "state": {
            "_view_name": "OutputView",
            "msg_id": "",
            "_dom_classes": [],
            "_model_name": "OutputModel",
            "outputs": [
              {
                "output_type": "display_data",
                "metadata": {
                  "tags": [],
                  "needs_background": "light"
                },
                "image/png": "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\n",
                "text/plain": "<Figure size 432x288 with 1 Axes>"
              },
              {
                "output_type": "display_data",
                "metadata": {
                  "tags": [],
                  "needs_background": "light"
                },
                "image/png": "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\n",
                "text/plain": "<Figure size 432x288 with 1 Axes>"
              },
              {
                "output_type": "display_data",
                "metadata": {
                  "tags": [],
                  "needs_background": "light"
                },
                "image/png": "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\n",
                "text/plain": "<Figure size 432x288 with 1 Axes>"
              }
            ],
            "_view_module": "@jupyter-widgets/output",
            "_model_module_version": "1.0.0",
            "_view_count": null,
            "_view_module_version": "1.0.0",
            "layout": "IPY_MODEL_70c8e9f8bcba42cc92b22f1be739e4e4",
            "_model_module": "@jupyter-widgets/output"
          }
        },
        "ec0cf801eb18470fa5f7685f894b05c9": {
          "model_module": "@jupyter-widgets/controls",
          "model_name": "SliderStyleModel",
          "state": {
            "_view_name": "StyleView",
            "handle_color": null,
            "_model_name": "SliderStyleModel",
            "description_width": "",
            "_view_module": "@jupyter-widgets/base",
            "_model_module_version": "1.5.0",
            "_view_count": null,
            "_view_module_version": "1.2.0",
            "_model_module": "@jupyter-widgets/controls"
          }
        },
        "cd899cd117bf414eb09c386216d19195": {
          "model_module": "@jupyter-widgets/base",
          "model_name": "LayoutModel",
          "state": {
            "_view_name": "LayoutView",
            "grid_template_rows": null,
            "right": null,
            "justify_content": null,
            "_view_module": "@jupyter-widgets/base",
            "overflow": null,
            "_model_module_version": "1.2.0",
            "_view_count": null,
            "flex_flow": null,
            "width": null,
            "min_width": null,
            "border": null,
            "align_items": null,
            "bottom": null,
            "_model_module": "@jupyter-widgets/base",
            "top": null,
            "grid_column": null,
            "overflow_y": null,
            "overflow_x": null,
            "grid_auto_flow": null,
            "grid_area": null,
            "grid_template_columns": null,
            "flex": null,
            "_model_name": "LayoutModel",
            "justify_items": null,
            "grid_row": null,
            "max_height": null,
            "align_content": null,
            "visibility": null,
            "align_self": null,
            "height": null,
            "min_height": null,
            "padding": null,
            "grid_auto_rows": null,
            "grid_gap": null,
            "max_width": null,
            "order": null,
            "_view_module_version": "1.2.0",
            "grid_template_areas": null,
            "object_position": null,
            "object_fit": null,
            "grid_auto_columns": null,
            "margin": null,
            "display": null,
            "left": null
          }
        },
        "44e83bde961c41b1bce9ddbd5d74d15a": {
          "model_module": "@jupyter-widgets/controls",
          "model_name": "SliderStyleModel",
          "state": {
            "_view_name": "StyleView",
            "handle_color": null,
            "_model_name": "SliderStyleModel",
            "description_width": "",
            "_view_module": "@jupyter-widgets/base",
            "_model_module_version": "1.5.0",
            "_view_count": null,
            "_view_module_version": "1.2.0",
            "_model_module": "@jupyter-widgets/controls"
          }
        },
        "6d99ecbd84494ce0b0c60f6d43b57d94": {
          "model_module": "@jupyter-widgets/base",
          "model_name": "LayoutModel",
          "state": {
            "_view_name": "LayoutView",
            "grid_template_rows": null,
            "right": null,
            "justify_content": null,
            "_view_module": "@jupyter-widgets/base",
            "overflow": null,
            "_model_module_version": "1.2.0",
            "_view_count": null,
            "flex_flow": null,
            "width": null,
            "min_width": null,
            "border": null,
            "align_items": null,
            "bottom": null,
            "_model_module": "@jupyter-widgets/base",
            "top": null,
            "grid_column": null,
            "overflow_y": null,
            "overflow_x": null,
            "grid_auto_flow": null,
            "grid_area": null,
            "grid_template_columns": null,
            "flex": null,
            "_model_name": "LayoutModel",
            "justify_items": null,
            "grid_row": null,
            "max_height": null,
            "align_content": null,
            "visibility": null,
            "align_self": null,
            "height": null,
            "min_height": null,
            "padding": null,
            "grid_auto_rows": null,
            "grid_gap": null,
            "max_width": null,
            "order": null,
            "_view_module_version": "1.2.0",
            "grid_template_areas": null,
            "object_position": null,
            "object_fit": null,
            "grid_auto_columns": null,
            "margin": null,
            "display": null,
            "left": null
          }
        },
        "70c8e9f8bcba42cc92b22f1be739e4e4": {
          "model_module": "@jupyter-widgets/base",
          "model_name": "LayoutModel",
          "state": {
            "_view_name": "LayoutView",
            "grid_template_rows": null,
            "right": null,
            "justify_content": null,
            "_view_module": "@jupyter-widgets/base",
            "overflow": null,
            "_model_module_version": "1.2.0",
            "_view_count": null,
            "flex_flow": null,
            "width": null,
            "min_width": null,
            "border": null,
            "align_items": null,
            "bottom": null,
            "_model_module": "@jupyter-widgets/base",
            "top": null,
            "grid_column": null,
            "overflow_y": null,
            "overflow_x": null,
            "grid_auto_flow": null,
            "grid_area": null,
            "grid_template_columns": null,
            "flex": null,
            "_model_name": "LayoutModel",
            "justify_items": null,
            "grid_row": null,
            "max_height": null,
            "align_content": null,
            "visibility": null,
            "align_self": null,
            "height": null,
            "min_height": null,
            "padding": null,
            "grid_auto_rows": null,
            "grid_gap": null,
            "max_width": null,
            "order": null,
            "_view_module_version": "1.2.0",
            "grid_template_areas": null,
            "object_position": null,
            "object_fit": null,
            "grid_auto_columns": null,
            "margin": null,
            "display": null,
            "left": null
          }
        },
        "f906196ebbc64a339b1e5c37e4205744": {
          "model_module": "@jupyter-widgets/controls",
          "model_name": "VBoxModel",
          "state": {
            "_view_name": "VBoxView",
            "_dom_classes": [
              "widget-interact"
            ],
            "_model_name": "VBoxModel",
            "_view_module": "@jupyter-widgets/controls",
            "_model_module_version": "1.5.0",
            "_view_count": null,
            "_view_module_version": "1.5.0",
            "box_style": "",
            "layout": "IPY_MODEL_a4724f0ac9b9473eb7ac3d4a27e84331",
            "_model_module": "@jupyter-widgets/controls",
            "children": [
              "IPY_MODEL_52f19ffaa44543a596639125cc56ebf2",
              "IPY_MODEL_0e0f64541d6e455ab18c0e241736bf70",
              "IPY_MODEL_3b1b7ebdc5ea468a8984f1e2a1e59cb6"
            ]
          }
        },
        "a4724f0ac9b9473eb7ac3d4a27e84331": {
          "model_module": "@jupyter-widgets/base",
          "model_name": "LayoutModel",
          "state": {
            "_view_name": "LayoutView",
            "grid_template_rows": null,
            "right": null,
            "justify_content": null,
            "_view_module": "@jupyter-widgets/base",
            "overflow": null,
            "_model_module_version": "1.2.0",
            "_view_count": null,
            "flex_flow": null,
            "width": null,
            "min_width": null,
            "border": null,
            "align_items": null,
            "bottom": null,
            "_model_module": "@jupyter-widgets/base",
            "top": null,
            "grid_column": null,
            "overflow_y": null,
            "overflow_x": null,
            "grid_auto_flow": null,
            "grid_area": null,
            "grid_template_columns": null,
            "flex": null,
            "_model_name": "LayoutModel",
            "justify_items": null,
            "grid_row": null,
            "max_height": null,
            "align_content": null,
            "visibility": null,
            "align_self": null,
            "height": null,
            "min_height": null,
            "padding": null,
            "grid_auto_rows": null,
            "grid_gap": null,
            "max_width": null,
            "order": null,
            "_view_module_version": "1.2.0",
            "grid_template_areas": null,
            "object_position": null,
            "object_fit": null,
            "grid_auto_columns": null,
            "margin": null,
            "display": null,
            "left": null
          }
        },
        "52f19ffaa44543a596639125cc56ebf2": {
          "model_module": "@jupyter-widgets/controls",
          "model_name": "IntSliderModel",
          "state": {
            "_view_name": "IntSliderView",
            "style": "IPY_MODEL_21df07305de540d3b84d89bf6d2bd378",
            "_dom_classes": [],
            "description": "max_depth",
            "step": 1,
            "_model_name": "IntSliderModel",
            "orientation": "horizontal",
            "max": 6,
            "_view_module": "@jupyter-widgets/controls",
            "_model_module_version": "1.5.0",
            "value": 1,
            "_view_count": null,
            "disabled": false,
            "_view_module_version": "1.5.0",
            "min": 1,
            "continuous_update": true,
            "readout_format": "d",
            "description_tooltip": null,
            "readout": true,
            "_model_module": "@jupyter-widgets/controls",
            "layout": "IPY_MODEL_c67f0b7a41fe40c3841c5eee4d27e611"
          }
        },
        "0e0f64541d6e455ab18c0e241736bf70": {
          "model_module": "@jupyter-widgets/controls",
          "model_name": "IntSliderModel",
          "state": {
            "_view_name": "IntSliderView",
            "style": "IPY_MODEL_09da6f9d0a7c4d479984ae8d36ffd6ae",
            "_dom_classes": [],
            "description": "n_estimators",
            "step": 10,
            "_model_name": "IntSliderModel",
            "orientation": "horizontal",
            "max": 40,
            "_view_module": "@jupyter-widgets/controls",
            "_model_module_version": "1.5.0",
            "value": 10,
            "_view_count": null,
            "disabled": false,
            "_view_module_version": "1.5.0",
            "min": 10,
            "continuous_update": true,
            "readout_format": "d",
            "description_tooltip": null,
            "readout": true,
            "_model_module": "@jupyter-widgets/controls",
            "layout": "IPY_MODEL_89ff86aaf19341e0bb1a56cc3c30d9ec"
          }
        },
        "3b1b7ebdc5ea468a8984f1e2a1e59cb6": {
          "model_module": "@jupyter-widgets/output",
          "model_name": "OutputModel",
          "state": {
            "_view_name": "OutputView",
            "msg_id": "",
            "_dom_classes": [],
            "_model_name": "OutputModel",
            "outputs": [
              {
                "output_type": "display_data",
                "metadata": {
                  "tags": [],
                  "needs_background": "light"
                },
                "image/png": "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\n",
                "text/plain": "<Figure size 432x288 with 2 Axes>"
              },
              {
                "output_type": "display_data",
                "metadata": {
                  "tags": [],
                  "needs_background": "light"
                },
                "image/png": "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\n",
                "text/plain": "<Figure size 432x288 with 2 Axes>"
              },
              {
                "output_type": "display_data",
                "metadata": {
                  "tags": [],
                  "needs_background": "light"
                },
                "image/png": "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\n",
                "text/plain": "<Figure size 432x288 with 2 Axes>"
              }
            ],
            "_view_module": "@jupyter-widgets/output",
            "_model_module_version": "1.0.0",
            "_view_count": null,
            "_view_module_version": "1.0.0",
            "layout": "IPY_MODEL_68cdeeea629c4239bc80c74a5f23df39",
            "_model_module": "@jupyter-widgets/output"
          }
        },
        "21df07305de540d3b84d89bf6d2bd378": {
          "model_module": "@jupyter-widgets/controls",
          "model_name": "SliderStyleModel",
          "state": {
            "_view_name": "StyleView",
            "handle_color": null,
            "_model_name": "SliderStyleModel",
            "description_width": "",
            "_view_module": "@jupyter-widgets/base",
            "_model_module_version": "1.5.0",
            "_view_count": null,
            "_view_module_version": "1.2.0",
            "_model_module": "@jupyter-widgets/controls"
          }
        },
        "c67f0b7a41fe40c3841c5eee4d27e611": {
          "model_module": "@jupyter-widgets/base",
          "model_name": "LayoutModel",
          "state": {
            "_view_name": "LayoutView",
            "grid_template_rows": null,
            "right": null,
            "justify_content": null,
            "_view_module": "@jupyter-widgets/base",
            "overflow": null,
            "_model_module_version": "1.2.0",
            "_view_count": null,
            "flex_flow": null,
            "width": null,
            "min_width": null,
            "border": null,
            "align_items": null,
            "bottom": null,
            "_model_module": "@jupyter-widgets/base",
            "top": null,
            "grid_column": null,
            "overflow_y": null,
            "overflow_x": null,
            "grid_auto_flow": null,
            "grid_area": null,
            "grid_template_columns": null,
            "flex": null,
            "_model_name": "LayoutModel",
            "justify_items": null,
            "grid_row": null,
            "max_height": null,
            "align_content": null,
            "visibility": null,
            "align_self": null,
            "height": null,
            "min_height": null,
            "padding": null,
            "grid_auto_rows": null,
            "grid_gap": null,
            "max_width": null,
            "order": null,
            "_view_module_version": "1.2.0",
            "grid_template_areas": null,
            "object_position": null,
            "object_fit": null,
            "grid_auto_columns": null,
            "margin": null,
            "display": null,
            "left": null
          }
        },
        "09da6f9d0a7c4d479984ae8d36ffd6ae": {
          "model_module": "@jupyter-widgets/controls",
          "model_name": "SliderStyleModel",
          "state": {
            "_view_name": "StyleView",
            "handle_color": null,
            "_model_name": "SliderStyleModel",
            "description_width": "",
            "_view_module": "@jupyter-widgets/base",
            "_model_module_version": "1.5.0",
            "_view_count": null,
            "_view_module_version": "1.2.0",
            "_model_module": "@jupyter-widgets/controls"
          }
        },
        "89ff86aaf19341e0bb1a56cc3c30d9ec": {
          "model_module": "@jupyter-widgets/base",
          "model_name": "LayoutModel",
          "state": {
            "_view_name": "LayoutView",
            "grid_template_rows": null,
            "right": null,
            "justify_content": null,
            "_view_module": "@jupyter-widgets/base",
            "overflow": null,
            "_model_module_version": "1.2.0",
            "_view_count": null,
            "flex_flow": null,
            "width": null,
            "min_width": null,
            "border": null,
            "align_items": null,
            "bottom": null,
            "_model_module": "@jupyter-widgets/base",
            "top": null,
            "grid_column": null,
            "overflow_y": null,
            "overflow_x": null,
            "grid_auto_flow": null,
            "grid_area": null,
            "grid_template_columns": null,
            "flex": null,
            "_model_name": "LayoutModel",
            "justify_items": null,
            "grid_row": null,
            "max_height": null,
            "align_content": null,
            "visibility": null,
            "align_self": null,
            "height": null,
            "min_height": null,
            "padding": null,
            "grid_auto_rows": null,
            "grid_gap": null,
            "max_width": null,
            "order": null,
            "_view_module_version": "1.2.0",
            "grid_template_areas": null,
            "object_position": null,
            "object_fit": null,
            "grid_auto_columns": null,
            "margin": null,
            "display": null,
            "left": null
          }
        },
        "68cdeeea629c4239bc80c74a5f23df39": {
          "model_module": "@jupyter-widgets/base",
          "model_name": "LayoutModel",
          "state": {
            "_view_name": "LayoutView",
            "grid_template_rows": null,
            "right": null,
            "justify_content": null,
            "_view_module": "@jupyter-widgets/base",
            "overflow": null,
            "_model_module_version": "1.2.0",
            "_view_count": null,
            "flex_flow": null,
            "width": null,
            "min_width": null,
            "border": null,
            "align_items": null,
            "bottom": null,
            "_model_module": "@jupyter-widgets/base",
            "top": null,
            "grid_column": null,
            "overflow_y": null,
            "overflow_x": null,
            "grid_auto_flow": null,
            "grid_area": null,
            "grid_template_columns": null,
            "flex": null,
            "_model_name": "LayoutModel",
            "justify_items": null,
            "grid_row": null,
            "max_height": null,
            "align_content": null,
            "visibility": null,
            "align_self": null,
            "height": null,
            "min_height": null,
            "padding": null,
            "grid_auto_rows": null,
            "grid_gap": null,
            "max_width": null,
            "order": null,
            "_view_module_version": "1.2.0",
            "grid_template_areas": null,
            "object_position": null,
            "object_fit": null,
            "grid_auto_columns": null,
            "margin": null,
            "display": null,
            "left": null
          }
        }
      }
    }
  },
  "cells": [
    {
      "cell_type": "markdown",
      "metadata": {
        "id": "view-in-github",
        "colab_type": "text"
      },
      "source": [
        "<a href=\"https://colab.research.google.com/github/Davis-Tony/DS-Unit-2-Kaggle-Challenge/blob/master/Copy_of_LS_DS12_222.ipynb\" target=\"_parent\"><img src=\"https://colab.research.google.com/assets/colab-badge.svg\" alt=\"Open In Colab\"/></a>"
      ]
    },
    {
      "cell_type": "markdown",
      "metadata": {
        "colab_type": "text",
        "id": "UEHyIgGaaSEJ"
      },
      "source": [
        "Lambda School Data Science\n",
        "\n",
        "*Unit 2, Sprint 2, Module 2*\n",
        "\n",
        "---"
      ]
    },
    {
      "cell_type": "markdown",
      "metadata": {
        "colab_type": "text",
        "id": "mRfPLX4WgLVJ"
      },
      "source": [
        "# Random Forests"
      ]
    },
    {
      "cell_type": "markdown",
      "metadata": {
        "colab_type": "text",
        "id": "jRRNhkxcgLVK"
      },
      "source": [
        "- use scikit-learn for **random forests**\n",
        "- do **ordinal encoding** with high-cardinality categoricals\n",
        "- understand how categorical encodings affect trees differently compared to linear models\n",
        "- understand how tree ensembles reduce overfitting compared to a single decision tree with unlimited depth"
      ]
    },
    {
      "cell_type": "markdown",
      "metadata": {
        "colab_type": "text",
        "id": "-3TH11e1gLVL"
      },
      "source": [
        "Today's lesson has two take-away messages:\n",
        "\n",
        "#### Try Tree Ensembles when you do machine learning with labeled, tabular data\n",
        "- \"Tree Ensembles\" means Random Forest or Gradient Boosting models. \n",
        "- [Tree Ensembles often have the best predictive accuracy](https://arxiv.org/abs/1708.05070) with labeled, tabular data.\n",
        "- Why? Because trees can fit non-linear, non-[monotonic](https://en.wikipedia.org/wiki/Monotonic_function) relationships, and [interactions](https://christophm.github.io/interpretable-ml-book/interaction.html) between features.\n",
        "- A single decision tree, grown to unlimited depth, will [overfit](http://www.r2d3.us/visual-intro-to-machine-learning-part-1/). We solve this problem by ensembling trees, with bagging (Random Forest) or boosting (Gradient Boosting).\n",
        "- Random Forest's advantage: may be less sensitive to hyperparameters. Gradient Boosting's advantage: may get better predictive accuracy.\n",
        "\n",
        "#### One-hot encoding isn’t the only way, and may not be the best way, of categorical encoding for tree ensembles.\n",
        "- For example, tree ensembles can work with arbitrary \"ordinal\" encoding! (Randomly assigning an integer to each category.) Compared to one-hot encoding, the dimensionality will be lower, and the predictive accuracy may be just as good or even better.\n"
      ]
    },
    {
      "cell_type": "markdown",
      "metadata": {
        "id": "iE1b1IJylhKi",
        "colab_type": "text"
      },
      "source": [
        "\n",
        "<img src=\"https://github.com/austinlasseter/DS-Unit-2-Kaggle-Challenge/blob/master/module2-random-forests/random_forest.png?raw=1\" alt=\"random forest\" width=\"500\"/>"
      ]
    },
    {
      "cell_type": "markdown",
      "metadata": {
        "colab_type": "text",
        "id": "r5PbOFEuFfGF"
      },
      "source": [
        "### Setup\n",
        "\n",
        "Run the code cell below. You can work locally (follow the [local setup instructions](https://lambdaschool.github.io/ds/unit2/local/)) or on Colab.\n",
        "\n",
        "Libraries\n",
        "\n",
        "- **category_encoders** \n",
        "- **graphviz**\n",
        "- ipywidgets\n",
        "- matplotlib\n",
        "- numpy\n",
        "- pandas\n",
        "- seaborn\n",
        "- scikit-learn"
      ]
    },
    {
      "cell_type": "code",
      "metadata": {
        "colab_type": "code",
        "id": "FStAplyRFoEu",
        "colab": {}
      },
      "source": [
        "%%capture\n",
        "import sys\n",
        "\n",
        "# If you're on Colab:\n",
        "if 'google.colab' in sys.modules:\n",
        "    DATA_PATH = 'https://raw.githubusercontent.com/LambdaSchool/DS-Unit-2-Kaggle-Challenge/master/data/'\n",
        "    !pip install category_encoders==2.*\n",
        "\n",
        "# If you're working locally:\n",
        "else:\n",
        "    DATA_PATH = '../data/'"
      ],
      "execution_count": null,
      "outputs": []
    },
    {
      "cell_type": "markdown",
      "metadata": {
        "colab_type": "text",
        "id": "ZL-yK8B7gLVW"
      },
      "source": [
        "# Use scikit-learn for random forests"
      ]
    },
    {
      "cell_type": "markdown",
      "metadata": {
        "id": "3tbqQ4Rq9Eoz",
        "colab_type": "text"
      },
      "source": [
        "## Overview\n",
        "\n",
        "Let's fit a Random Forest!"
      ]
    },
    {
      "cell_type": "markdown",
      "metadata": {
        "colab_type": "text",
        "id": "gHFxMCPSgLVM"
      },
      "source": [
        "### Solution example\n",
        "\n",
        "First, read & wrangle the data.\n",
        "\n",
        "> Define a function to wrangle train, validate, and test sets in the same way. Clean outliers and engineer features. (For example, [what other columns have zeros and shouldn't?](https://github.com/Quartz/bad-data-guide#zeros-replace-missing-values) What other columns are duplicates, or nearly duplicates? Can you extract the year from date_recorded? Can you engineer new features, such as the number of years from waterpump construction to waterpump inspection?)"
      ]
    },
    {
      "cell_type": "code",
      "metadata": {
        "colab_type": "code",
        "id": "YTLm-rDagLVM",
        "colab": {}
      },
      "source": [
        "import numpy as np\n",
        "import pandas as pd\n",
        "from sklearn.model_selection import train_test_split\n",
        "\n",
        "# Merge train_features.csv & train_labels.csv\n",
        "train = pd.merge(pd.read_csv(DATA_PATH+'waterpumps/train_features.csv'), \n",
        "                 pd.read_csv(DATA_PATH+'waterpumps/train_labels.csv'))\n",
        "\n",
        "# Read test_features.csv & sample_submission.csv\n",
        "test = pd.read_csv(DATA_PATH+'waterpumps/test_features.csv')\n",
        "sample_submission = pd.read_csv(DATA_PATH+'waterpumps/sample_submission.csv')\n",
        "\n",
        "# Split train into train & val\n",
        "train, val = train_test_split(train, train_size=0.80, test_size=0.20, \n",
        "                              stratify=train['status_group'], random_state=42)\n",
        "\n",
        "\n",
        "def wrangle(X):\n",
        "    \"\"\"Wrangle train, validate, and test sets in the same way\"\"\"\n",
        "    \n",
        "    # Prevent SettingWithCopyWarning\n",
        "    X = X.copy()\n",
        "    \n",
        "    # About 3% of the time, latitude has small values near zero,\n",
        "    # outside Tanzania, so we'll treat these values like zero.\n",
        "    X['latitude'] = X['latitude'].replace(-2e-08, 0)\n",
        "    \n",
        "    # When columns have zeros and shouldn't, they are like null values.\n",
        "    # So we will replace the zeros with nulls, and impute missing values later.\n",
        "    # Also create a \"missing indicator\" column, because the fact that\n",
        "    # values are missing may be a predictive signal.\n",
        "    cols_with_zeros = ['longitude', 'latitude', 'construction_year', \n",
        "                       'gps_height', 'population']\n",
        "    for col in cols_with_zeros:\n",
        "        X[col] = X[col].replace(0, np.nan)\n",
        "        X[col+'_MISSING'] = X[col].isnull()\n",
        "            \n",
        "    # Drop duplicate columns\n",
        "    duplicates = ['quantity_group', 'payment_type']\n",
        "    X = X.drop(columns=duplicates)\n",
        "    \n",
        "    # Drop recorded_by (never varies) and id (always varies, random)\n",
        "    unusable_variance = ['recorded_by', 'id']\n",
        "    X = X.drop(columns=unusable_variance)\n",
        "    \n",
        "    # Convert date_recorded to datetime\n",
        "    X['date_recorded'] = pd.to_datetime(X['date_recorded'], infer_datetime_format=True)\n",
        "    \n",
        "    # Extract components from date_recorded, then drop the original column\n",
        "    X['year_recorded'] = X['date_recorded'].dt.year\n",
        "    X['month_recorded'] = X['date_recorded'].dt.month\n",
        "    X['day_recorded'] = X['date_recorded'].dt.day\n",
        "    X = X.drop(columns='date_recorded')\n",
        "    \n",
        "    # Engineer feature: how many years from construction_year to date_recorded\n",
        "    X['years'] = X['year_recorded'] - X['construction_year']\n",
        "    X['years_MISSING'] = X['years'].isnull()\n",
        "    \n",
        "    # return the wrangled dataframe\n",
        "    return X\n",
        "\n",
        "train = wrangle(train)\n",
        "val = wrangle(val)\n",
        "test = wrangle(test)"
      ],
      "execution_count": null,
      "outputs": []
    },
    {
      "cell_type": "code",
      "metadata": {
        "colab_type": "code",
        "id": "m2HppBvZgLVP",
        "colab": {}
      },
      "source": [
        "# The status_group column is the target\n",
        "target = 'status_group'\n",
        "\n",
        "# Get a dataframe with all train columns except the target\n",
        "train_features = train.drop(columns=[target])\n",
        "\n",
        "# Get a list of the numeric features\n",
        "numeric_features = train_features.select_dtypes(include='number').columns.tolist()\n",
        "\n",
        "# Get a series with the cardinality of the nonnumeric features\n",
        "cardinality = train_features.select_dtypes(exclude='number').nunique()\n",
        "\n",
        "# Get a list of all categorical features with cardinality <= 50\n",
        "categorical_features = cardinality[cardinality <= 50].index.tolist()\n",
        "\n",
        "# Combine the lists \n",
        "features = numeric_features + categorical_features"
      ],
      "execution_count": null,
      "outputs": []
    },
    {
      "cell_type": "code",
      "metadata": {
        "colab_type": "code",
        "id": "aXmK2brXgLVR",
        "colab": {}
      },
      "source": [
        "# Arrange data into X features matrix and y target vector \n",
        "X_train = train[features]\n",
        "y_train = train[target]\n",
        "X_val = val[features]\n",
        "y_val = val[target]\n",
        "X_test = test[features]"
      ],
      "execution_count": null,
      "outputs": []
    },
    {
      "cell_type": "code",
      "metadata": {
        "id": "1FR7hmhzX1q7",
        "colab_type": "code",
        "colab": {
          "base_uri": "https://localhost:8080/",
          "height": 34
        },
        "outputId": "04dff3b7-7170-4a9d-de68-71e93e51528f"
      },
      "source": [
        "train.describe(exclude='number').T.unique.sum()"
      ],
      "execution_count": null,
      "outputs": [
        {
          "output_type": "execute_result",
          "data": {
            "text/plain": [
              "56481"
            ]
          },
          "metadata": {
            "tags": []
          },
          "execution_count": 31
        }
      ]
    },
    {
      "cell_type": "markdown",
      "metadata": {
        "id": "XsT6ahBr9Eo-",
        "colab_type": "text"
      },
      "source": [
        "## Follow Along\n",
        "\n",
        "[Scikit-Learn User Guide: Random Forests](https://scikit-learn.org/stable/modules/ensemble.html#random-forests)"
      ]
    },
    {
      "cell_type": "code",
      "metadata": {
        "id": "MfPklCDxfRzP",
        "colab_type": "code",
        "colab": {
          "base_uri": "https://localhost:8080/",
          "height": 204
        },
        "outputId": "24c0b572-e9af-4762-c7a3-968901747fa2"
      },
      "source": [
        "# let's take a small sample for comparison purposes\n",
        "region = X_train[['region']].copy()\n",
        "region = region.sample(30)\n",
        "region.head()"
      ],
      "execution_count": null,
      "outputs": [
        {
          "output_type": "execute_result",
          "data": {
            "text/html": [
              "<div>\n",
              "<style scoped>\n",
              "    .dataframe tbody tr th:only-of-type {\n",
              "        vertical-align: middle;\n",
              "    }\n",
              "\n",
              "    .dataframe tbody tr th {\n",
              "        vertical-align: top;\n",
              "    }\n",
              "\n",
              "    .dataframe thead th {\n",
              "        text-align: right;\n",
              "    }\n",
              "</style>\n",
              "<table border=\"1\" class=\"dataframe\">\n",
              "  <thead>\n",
              "    <tr style=\"text-align: right;\">\n",
              "      <th></th>\n",
              "      <th>region</th>\n",
              "    </tr>\n",
              "  </thead>\n",
              "  <tbody>\n",
              "    <tr>\n",
              "      <th>24171</th>\n",
              "      <td>Mbeya</td>\n",
              "    </tr>\n",
              "    <tr>\n",
              "      <th>17836</th>\n",
              "      <td>Tabora</td>\n",
              "    </tr>\n",
              "    <tr>\n",
              "      <th>32993</th>\n",
              "      <td>Mbeya</td>\n",
              "    </tr>\n",
              "    <tr>\n",
              "      <th>13727</th>\n",
              "      <td>Kilimanjaro</td>\n",
              "    </tr>\n",
              "    <tr>\n",
              "      <th>9955</th>\n",
              "      <td>Iringa</td>\n",
              "    </tr>\n",
              "  </tbody>\n",
              "</table>\n",
              "</div>"
            ],
            "text/plain": [
              "            region\n",
              "24171        Mbeya\n",
              "17836       Tabora\n",
              "32993        Mbeya\n",
              "13727  Kilimanjaro\n",
              "9955        Iringa"
            ]
          },
          "metadata": {
            "tags": []
          },
          "execution_count": 32
        }
      ]
    },
    {
      "cell_type": "code",
      "metadata": {
        "id": "zjyv5SVlfbCQ",
        "colab_type": "code",
        "colab": {
          "base_uri": "https://localhost:8080/",
          "height": 306
        },
        "outputId": "fc54d2d0-2b77-405f-ce2a-8b68353dab1f"
      },
      "source": [
        "# how many regions are there?\n",
        "region['region'].value_counts()"
      ],
      "execution_count": null,
      "outputs": [
        {
          "output_type": "execute_result",
          "data": {
            "text/plain": [
              "Mbeya            6\n",
              "Tabora           3\n",
              "Kilimanjaro      3\n",
              "Kagera           2\n",
              "Iringa           2\n",
              "Dodoma           2\n",
              "Ruvuma           2\n",
              "Singida          2\n",
              "Kigoma           1\n",
              "Lindi            1\n",
              "Pwani            1\n",
              "Morogoro         1\n",
              "Arusha           1\n",
              "Dar es Salaam    1\n",
              "Mwanza           1\n",
              "Rukwa            1\n",
              "Name: region, dtype: int64"
            ]
          },
          "metadata": {
            "tags": []
          },
          "execution_count": 33
        }
      ]
    },
    {
      "cell_type": "code",
      "metadata": {
        "id": "7icCdsiMfX7z",
        "colab_type": "code",
        "colab": {}
      },
      "source": [
        "# what does one-hot encoding look like?\n",
        "# region_ohe.head()"
      ],
      "execution_count": null,
      "outputs": []
    },
    {
      "cell_type": "markdown",
      "metadata": {
        "id": "JWT9dTzAfnOR",
        "colab_type": "text"
      },
      "source": [
        "### Put that into a pipeline."
      ]
    },
    {
      "cell_type": "code",
      "metadata": {
        "colab_type": "code",
        "id": "57yyygsdgLVW",
        "colab": {
          "base_uri": "https://localhost:8080/",
          "height": 68
        },
        "outputId": "b71c1c1f-49ba-4fcd-80d2-aaf1fc30ad14"
      },
      "source": [
        "%%time\n",
        "# WARNING: the %%time command sometimes has quirks/bugs\n",
        "\n",
        "import category_encoders as ce\n",
        "from sklearn.ensemble import RandomForestClassifier\n",
        "from sklearn.impute import SimpleImputer\n",
        "from sklearn.pipeline import make_pipeline\n",
        "\n",
        "pipeline = make_pipeline(\n",
        "    ce.OneHotEncoder(use_cat_names=True), \n",
        "    SimpleImputer(strategy='median'), \n",
        "    RandomForestClassifier(random_state=0, n_jobs=-1)\n",
        ")\n",
        "\n",
        "# Fit on train, score on val\n",
        "pipeline.fit(X_train, y_train)\n",
        "print('Validation Accuracy', pipeline.score(X_val, y_val))"
      ],
      "execution_count": null,
      "outputs": [
        {
          "output_type": "stream",
          "text": [
            "Validation Accuracy 0.8088383838383838\n",
            "CPU times: user 26.5 s, sys: 283 ms, total: 26.8 s\n",
            "Wall time: 16.1 s\n"
          ],
          "name": "stdout"
        }
      ]
    },
    {
      "cell_type": "code",
      "metadata": {
        "id": "aNufH5BOVCsj",
        "colab_type": "code",
        "colab": {
          "base_uri": "https://localhost:8080/",
          "height": 34
        },
        "outputId": "693d0870-3bcf-497b-8c52-a8e130666f06"
      },
      "source": [
        "print('X_train shape before encoding', X_train.shape)"
      ],
      "execution_count": null,
      "outputs": [
        {
          "output_type": "stream",
          "text": [
            "X_train shape before encoding (47520, 38)\n"
          ],
          "name": "stdout"
        }
      ]
    },
    {
      "cell_type": "code",
      "metadata": {
        "id": "8lNXWsFvDwLM",
        "colab_type": "code",
        "colab": {
          "base_uri": "https://localhost:8080/",
          "height": 340
        },
        "outputId": "3ca951c6-b3dc-492f-b6bf-ff0d42f405cc"
      },
      "source": [
        "pipeline.named_steps"
      ],
      "execution_count": null,
      "outputs": [
        {
          "output_type": "execute_result",
          "data": {
            "text/plain": [
              "{'onehotencoder': OneHotEncoder(cols=['basin', 'region', 'public_meeting', 'scheme_management',\n",
              "                     'permit', 'extraction_type', 'extraction_type_group',\n",
              "                     'extraction_type_class', 'management', 'management_group',\n",
              "                     'payment', 'water_quality', 'quality_group', 'quantity',\n",
              "                     'source', 'source_type', 'source_class', 'waterpoint_type',\n",
              "                     'waterpoint_type_group'],\n",
              "               drop_invariant=False, handle_missing='value',\n",
              "               handle_unknown='value', return_df=True, use_cat_names=True,\n",
              "               verbose=0),\n",
              " 'randomforestclassifier': RandomForestClassifier(bootstrap=True, ccp_alpha=0.0, class_weight=None,\n",
              "                        criterion='gini', max_depth=None, max_features='auto',\n",
              "                        max_leaf_nodes=None, max_samples=None,\n",
              "                        min_impurity_decrease=0.0, min_impurity_split=None,\n",
              "                        min_samples_leaf=1, min_samples_split=2,\n",
              "                        min_weight_fraction_leaf=0.0, n_estimators=100,\n",
              "                        n_jobs=-1, oob_score=False, random_state=0, verbose=0,\n",
              "                        warm_start=False),\n",
              " 'simpleimputer': SimpleImputer(add_indicator=False, copy=True, fill_value=None,\n",
              "               missing_values=nan, strategy='median', verbose=0)}"
            ]
          },
          "metadata": {
            "tags": []
          },
          "execution_count": 37
        }
      ]
    },
    {
      "cell_type": "code",
      "metadata": {
        "id": "ay8iLJhtVIlQ",
        "colab_type": "code",
        "colab": {
          "base_uri": "https://localhost:8080/",
          "height": 34
        },
        "outputId": "7921c982-b36f-4719-c868-d0d0237d8615"
      },
      "source": [
        "encoder = pipeline.named_steps['onehotencoder']\n",
        "encoded = encoder.transform(X_train)\n",
        "print('X_train shape after encoding', encoded.shape)"
      ],
      "execution_count": null,
      "outputs": [
        {
          "output_type": "stream",
          "text": [
            "X_train shape after encoding (47520, 182)\n"
          ],
          "name": "stdout"
        }
      ]
    },
    {
      "cell_type": "code",
      "metadata": {
        "id": "LRFGlwRaVmLW",
        "colab_type": "code",
        "colab": {
          "base_uri": "https://localhost:8080/",
          "height": 607
        },
        "outputId": "2947f364-2721-4b49-c139-54e7c97b395f"
      },
      "source": [
        "%matplotlib inline\n",
        "import matplotlib.pyplot as plt\n",
        "\n",
        "# Get feature importances\n",
        "rf = pipeline.named_steps['randomforestclassifier']\n",
        "importances = pd.Series(rf.feature_importances_, encoded.columns)\n",
        "\n",
        "# Plot top n feature importances\n",
        "n = 20\n",
        "plt.figure(figsize=(10,n/2))\n",
        "plt.title(f'Top {n} features')\n",
        "importances.sort_values()[-n:].plot.barh();"
      ],
      "execution_count": null,
      "outputs": [
        {
          "output_type": "display_data",
          "data": {
            "image/png": "[encoded data removed]",
            "text/plain": [
              "<Figure size 720x720 with 1 Axes>"
            ]
          },
          "metadata": {
            "tags": [],
            "needs_background": "light"
          }
        }
      ]
    },
    {
      "cell_type": "markdown",
      "metadata": {
        "colab_type": "text",
        "id": "yfyk_aa5gLVY"
      },
      "source": [
        "# Do ordinal encoding with high-cardinality categoricals"
      ]
    },
    {
      "cell_type": "markdown",
      "metadata": {
        "id": "TALhCsW09EpC",
        "colab_type": "text"
      },
      "source": [
        "## Overview\n",
        "\n",
        "http://contrib.scikit-learn.org/categorical-encoding/ordinal.html"
      ]
    },
    {
      "cell_type": "markdown",
      "metadata": {
        "id": "Xk0xQ1lM9EpC",
        "colab_type": "text"
      },
      "source": [
        "## Follow Along"
      ]
    },
    {
      "cell_type": "code",
      "metadata": {
        "colab_type": "code",
        "id": "b8d_WJtcgLVZ",
        "colab": {}
      },
      "source": [
        "# Re-arrange data into X features matrix and y target vector, so\n",
        "# we use *all* features, including the high-cardinality categoricals\n",
        "X_train = train.drop(columns=target)\n",
        "y_train = train[target]\n",
        "X_val = val.drop(columns=target)\n",
        "y_val = val[target]\n",
        "X_test = test"
      ],
      "execution_count": null,
      "outputs": []
    },
    {
      "cell_type": "markdown",
      "metadata": {
        "id": "SRU4lAbVgH14",
        "colab_type": "text"
      },
      "source": [
        "### There's a couple of ways to encode categorical variables"
      ]
    },
    {
      "cell_type": "code",
      "metadata": {
        "id": "dKD3Fu6wRaHK",
        "colab_type": "code",
        "colab": {
          "base_uri": "https://localhost:8080/",
          "height": 204
        },
        "outputId": "b72eaffa-cb33-45cd-ebfc-885a7c67ce59"
      },
      "source": [
        "# let's take a small sample for comparison purposes\n",
        "region = X_train[['region']].copy()\n",
        "region = region.sample(30)\n",
        "region.head()"
      ],
      "execution_count": null,
      "outputs": [
        {
          "output_type": "execute_result",
          "data": {
            "text/html": [
              "<div>\n",
              "<style scoped>\n",
              "    .dataframe tbody tr th:only-of-type {\n",
              "        vertical-align: middle;\n",
              "    }\n",
              "\n",
              "    .dataframe tbody tr th {\n",
              "        vertical-align: top;\n",
              "    }\n",
              "\n",
              "    .dataframe thead th {\n",
              "        text-align: right;\n",
              "    }\n",
              "</style>\n",
              "<table border=\"1\" class=\"dataframe\">\n",
              "  <thead>\n",
              "    <tr style=\"text-align: right;\">\n",
              "      <th></th>\n",
              "      <th>region</th>\n",
              "    </tr>\n",
              "  </thead>\n",
              "  <tbody>\n",
              "    <tr>\n",
              "      <th>37444</th>\n",
              "      <td>Mbeya</td>\n",
              "    </tr>\n",
              "    <tr>\n",
              "      <th>32767</th>\n",
              "      <td>Dar es Salaam</td>\n",
              "    </tr>\n",
              "    <tr>\n",
              "      <th>48943</th>\n",
              "      <td>Mara</td>\n",
              "    </tr>\n",
              "    <tr>\n",
              "      <th>48266</th>\n",
              "      <td>Tanga</td>\n",
              "    </tr>\n",
              "    <tr>\n",
              "      <th>42345</th>\n",
              "      <td>Morogoro</td>\n",
              "    </tr>\n",
              "  </tbody>\n",
              "</table>\n",
              "</div>"
            ],
            "text/plain": [
              "              region\n",
              "37444          Mbeya\n",
              "32767  Dar es Salaam\n",
              "48943           Mara\n",
              "48266          Tanga\n",
              "42345       Morogoro"
            ]
          },
          "metadata": {
            "tags": []
          },
          "execution_count": 41
        }
      ]
    },
    {
      "cell_type": "code",
      "metadata": {
        "id": "ShViYNXZRkt3",
        "colab_type": "code",
        "colab": {
          "base_uri": "https://localhost:8080/",
          "height": 85
        },
        "outputId": "5ab3f3a0-c5cd-41c1-fb18-c809a3471be3"
      },
      "source": [
        "# Method 1\n",
        "# Encode the categorical columns using the pandas \"category\" data type\n",
        "region['region_cats']=region['region'].astype('category')\n",
        "region['region_codes']= region['region_cats'].cat.codes\n",
        "region.dtypes"
      ],
      "execution_count": null,
      "outputs": [
        {
          "output_type": "execute_result",
          "data": {
            "text/plain": [
              "region            object\n",
              "region_cats     category\n",
              "region_codes        int8\n",
              "dtype: object"
            ]
          },
          "metadata": {
            "tags": []
          },
          "execution_count": 42
        }
      ]
    },
    {
      "cell_type": "code",
      "metadata": {
        "id": "IRM-rqnAcPUB",
        "colab_type": "code",
        "colab": {
          "base_uri": "https://localhost:8080/",
          "height": 204
        },
        "outputId": "d35ca552-dae3-49fe-f2ea-7fbffc4023c8"
      },
      "source": [
        "# show a few\n",
        "region.head()"
      ],
      "execution_count": null,
      "outputs": [
        {
          "output_type": "execute_result",
          "data": {
            "text/html": [
              "<div>\n",
              "<style scoped>\n",
              "    .dataframe tbody tr th:only-of-type {\n",
              "        vertical-align: middle;\n",
              "    }\n",
              "\n",
              "    .dataframe tbody tr th {\n",
              "        vertical-align: top;\n",
              "    }\n",
              "\n",
              "    .dataframe thead th {\n",
              "        text-align: right;\n",
              "    }\n",
              "</style>\n",
              "<table border=\"1\" class=\"dataframe\">\n",
              "  <thead>\n",
              "    <tr style=\"text-align: right;\">\n",
              "      <th></th>\n",
              "      <th>region</th>\n",
              "      <th>region_cats</th>\n",
              "      <th>region_codes</th>\n",
              "    </tr>\n",
              "  </thead>\n",
              "  <tbody>\n",
              "    <tr>\n",
              "      <th>37444</th>\n",
              "      <td>Mbeya</td>\n",
              "      <td>Mbeya</td>\n",
              "      <td>8</td>\n",
              "    </tr>\n",
              "    <tr>\n",
              "      <th>32767</th>\n",
              "      <td>Dar es Salaam</td>\n",
              "      <td>Dar es Salaam</td>\n",
              "      <td>0</td>\n",
              "    </tr>\n",
              "    <tr>\n",
              "      <th>48943</th>\n",
              "      <td>Mara</td>\n",
              "      <td>Mara</td>\n",
              "      <td>7</td>\n",
              "    </tr>\n",
              "    <tr>\n",
              "      <th>48266</th>\n",
              "      <td>Tanga</td>\n",
              "      <td>Tanga</td>\n",
              "      <td>15</td>\n",
              "    </tr>\n",
              "    <tr>\n",
              "      <th>42345</th>\n",
              "      <td>Morogoro</td>\n",
              "      <td>Morogoro</td>\n",
              "      <td>9</td>\n",
              "    </tr>\n",
              "  </tbody>\n",
              "</table>\n",
              "</div>"
            ],
            "text/plain": [
              "              region    region_cats  region_codes\n",
              "37444          Mbeya          Mbeya             8\n",
              "32767  Dar es Salaam  Dar es Salaam             0\n",
              "48943           Mara           Mara             7\n",
              "48266          Tanga          Tanga            15\n",
              "42345       Morogoro       Morogoro             9"
            ]
          },
          "metadata": {
            "tags": []
          },
          "execution_count": 43
        }
      ]
    },
    {
      "cell_type": "code",
      "metadata": {
        "id": "m1llC916czdm",
        "colab_type": "code",
        "colab": {
          "base_uri": "https://localhost:8080/",
          "height": 306
        },
        "outputId": "e1af9453-fcbd-4b50-c417-5ae6441be6bd"
      },
      "source": [
        "# distribution (note that the values start at 0)\n",
        "region['region_codes'].value_counts().sort_index()"
      ],
      "execution_count": null,
      "outputs": [
        {
          "output_type": "execute_result",
          "data": {
            "text/plain": [
              "0     1\n",
              "1     1\n",
              "2     3\n",
              "3     1\n",
              "4     3\n",
              "5     1\n",
              "6     1\n",
              "7     2\n",
              "8     2\n",
              "9     1\n",
              "10    3\n",
              "11    1\n",
              "12    2\n",
              "13    2\n",
              "14    3\n",
              "15    3\n",
              "Name: region_codes, dtype: int64"
            ]
          },
          "metadata": {
            "tags": []
          },
          "execution_count": 44
        }
      ]
    },
    {
      "cell_type": "code",
      "metadata": {
        "id": "71hxYTITSyG7",
        "colab_type": "code",
        "colab": {
          "base_uri": "https://localhost:8080/",
          "height": 204
        },
        "outputId": "68dc8fdf-6248-4812-f9ee-466b86cec6c8"
      },
      "source": [
        "# Method 2\n",
        "# Encode the categorical columns using scikit learn's ordinal encoding class\n",
        "myencoder=ce.OrdinalEncoder()\n",
        "region['region_encoded'] = myencoder.fit_transform(region['region'])\n",
        "region.sample(5)"
      ],
      "execution_count": null,
      "outputs": [
        {
          "output_type": "execute_result",
          "data": {
            "text/html": [
              "<div>\n",
              "<style scoped>\n",
              "    .dataframe tbody tr th:only-of-type {\n",
              "        vertical-align: middle;\n",
              "    }\n",
              "\n",
              "    .dataframe tbody tr th {\n",
              "        vertical-align: top;\n",
              "    }\n",
              "\n",
              "    .dataframe thead th {\n",
              "        text-align: right;\n",
              "    }\n",
              "</style>\n",
              "<table border=\"1\" class=\"dataframe\">\n",
              "  <thead>\n",
              "    <tr style=\"text-align: right;\">\n",
              "      <th></th>\n",
              "      <th>region</th>\n",
              "      <th>region_cats</th>\n",
              "      <th>region_codes</th>\n",
              "      <th>region_encoded</th>\n",
              "    </tr>\n",
              "  </thead>\n",
              "  <tbody>\n",
              "    <tr>\n",
              "      <th>35863</th>\n",
              "      <td>Mtwara</td>\n",
              "      <td>Mtwara</td>\n",
              "      <td>10</td>\n",
              "      <td>7</td>\n",
              "    </tr>\n",
              "    <tr>\n",
              "      <th>31587</th>\n",
              "      <td>Rukwa</td>\n",
              "      <td>Rukwa</td>\n",
              "      <td>11</td>\n",
              "      <td>14</td>\n",
              "    </tr>\n",
              "    <tr>\n",
              "      <th>17496</th>\n",
              "      <td>Lindi</td>\n",
              "      <td>Lindi</td>\n",
              "      <td>6</td>\n",
              "      <td>16</td>\n",
              "    </tr>\n",
              "    <tr>\n",
              "      <th>33647</th>\n",
              "      <td>Kigoma</td>\n",
              "      <td>Kigoma</td>\n",
              "      <td>4</td>\n",
              "      <td>6</td>\n",
              "    </tr>\n",
              "    <tr>\n",
              "      <th>32791</th>\n",
              "      <td>Shinyanga</td>\n",
              "      <td>Shinyanga</td>\n",
              "      <td>13</td>\n",
              "      <td>9</td>\n",
              "    </tr>\n",
              "  </tbody>\n",
              "</table>\n",
              "</div>"
            ],
            "text/plain": [
              "          region region_cats  region_codes  region_encoded\n",
              "35863     Mtwara      Mtwara            10               7\n",
              "31587      Rukwa       Rukwa            11              14\n",
              "17496      Lindi       Lindi             6              16\n",
              "33647     Kigoma      Kigoma             4               6\n",
              "32791  Shinyanga   Shinyanga            13               9"
            ]
          },
          "metadata": {
            "tags": []
          },
          "execution_count": 45
        }
      ]
    },
    {
      "cell_type": "code",
      "metadata": {
        "id": "lRGoNhuNc_bZ",
        "colab_type": "code",
        "colab": {
          "base_uri": "https://localhost:8080/",
          "height": 306
        },
        "outputId": "f56fd35a-0041-407e-89e0-5d04b6e249d4"
      },
      "source": [
        "# they are the same distribution but starting at 1 not 0\n",
        "region['region_encoded'].value_counts().sort_index()"
      ],
      "execution_count": null,
      "outputs": [
        {
          "output_type": "execute_result",
          "data": {
            "text/plain": [
              "1     2\n",
              "2     1\n",
              "3     2\n",
              "4     3\n",
              "5     1\n",
              "6     3\n",
              "7     3\n",
              "8     1\n",
              "9     2\n",
              "10    3\n",
              "11    3\n",
              "12    1\n",
              "13    2\n",
              "14    1\n",
              "15    1\n",
              "16    1\n",
              "Name: region_encoded, dtype: int64"
            ]
          },
          "metadata": {
            "tags": []
          },
          "execution_count": 46
        }
      ]
    },
    {
      "cell_type": "markdown",
      "metadata": {
        "id": "uUQ1hswHen1K",
        "colab_type": "text"
      },
      "source": [
        "### Okay back to our scheduled programming"
      ]
    },
    {
      "cell_type": "code",
      "metadata": {
        "id": "BjxV8i9daBoO",
        "colab_type": "code",
        "colab": {
          "base_uri": "https://localhost:8080/",
          "height": 68
        },
        "outputId": "29dca8b7-20ed-4886-aac0-9c9f05ad7767"
      },
      "source": [
        "%%time\n",
        "\n",
        "# This pipeline is identical to the example cell above, \n",
        "# except we're replacing one-hot encoder with \"ordinal\" encoder\n",
        "\n",
        "pipeline = make_pipeline(\n",
        "    ce.OrdinalEncoder(), \n",
        "    SimpleImputer(strategy='median'), \n",
        "    RandomForestClassifier(random_state=0, n_jobs=-1)\n",
        ")\n",
        "\n",
        "# Fit on train, score on val\n",
        "pipeline.fit(X_train, y_train)\n",
        "print('Validation Accuracy', pipeline.score(X_val, y_val))"
      ],
      "execution_count": null,
      "outputs": [
        {
          "output_type": "stream",
          "text": [
            "Validation Accuracy 0.8092592592592592\n",
            "CPU times: user 20 s, sys: 183 ms, total: 20.2 s\n",
            "Wall time: 11.1 s\n"
          ],
          "name": "stdout"
        }
      ]
    },
    {
      "cell_type": "code",
      "metadata": {
        "id": "-oTJ_a9_boTQ",
        "colab_type": "code",
        "colab": {
          "base_uri": "https://localhost:8080/",
          "height": 34
        },
        "outputId": "bded1105-b264-472d-ba52-97d2be82377c"
      },
      "source": [
        "print('X_train shape before encoding', X_train.shape)"
      ],
      "execution_count": null,
      "outputs": [
        {
          "output_type": "stream",
          "text": [
            "X_train shape before encoding (47520, 45)\n"
          ],
          "name": "stdout"
        }
      ]
    },
    {
      "cell_type": "code",
      "metadata": {
        "id": "1BHSXBFmbtzA",
        "colab_type": "code",
        "colab": {
          "base_uri": "https://localhost:8080/",
          "height": 34
        },
        "outputId": "d7ae67de-49b7-4e2a-9c1e-618389cf9650"
      },
      "source": [
        "encoder = pipeline.named_steps['ordinalencoder']\n",
        "encoded = encoder.transform(X_train)\n",
        "print('X_train shape after encoding', encoded.shape)"
      ],
      "execution_count": null,
      "outputs": [
        {
          "output_type": "stream",
          "text": [
            "X_train shape after encoding (47520, 45)\n"
          ],
          "name": "stdout"
        }
      ]
    },
    {
      "cell_type": "markdown",
      "metadata": {
        "colab_type": "text",
        "id": "xs2UPoVdgLVp"
      },
      "source": [
        "# Understand how categorical encodings affect trees differently compared to linear models"
      ]
    },
    {
      "cell_type": "markdown",
      "metadata": {
        "id": "jKbCTRg59EpH",
        "colab_type": "text"
      },
      "source": [
        "## Follow Along"
      ]
    },
    {
      "cell_type": "markdown",
      "metadata": {
        "colab_type": "text",
        "id": "z8V-A92mgLVp"
      },
      "source": [
        "### Categorical exploration, 1 feature at a time\n",
        "\n",
        "Change `feature`, then re-run these cells!"
      ]
    },
    {
      "cell_type": "code",
      "metadata": {
        "id": "n-tJz8xoG5DF",
        "colab_type": "code",
        "colab": {
          "base_uri": "https://localhost:8080/",
          "height": 54
        },
        "outputId": "99f1f291-691c-460f-94b7-e5592e875731"
      },
      "source": [
        "print(features)"
      ],
      "execution_count": null,
      "outputs": [
        {
          "output_type": "stream",
          "text": [
            "['amount_tsh', 'gps_height', 'longitude', 'latitude', 'num_private', 'region_code', 'district_code', 'population', 'construction_year', 'year_recorded', 'month_recorded', 'day_recorded', 'years', 'basin', 'region', 'public_meeting', 'scheme_management', 'permit', 'extraction_type', 'extraction_type_group', 'extraction_type_class', 'management', 'management_group', 'payment', 'water_quality', 'quality_group', 'quantity', 'source', 'source_type', 'source_class', 'waterpoint_type', 'waterpoint_type_group', 'longitude_MISSING', 'latitude_MISSING', 'construction_year_MISSING', 'gps_height_MISSING', 'population_MISSING', 'years_MISSING']\n"
          ],
          "name": "stdout"
        }
      ]
    },
    {
      "cell_type": "code",
      "metadata": {
        "colab_type": "code",
        "id": "G35RAzVdgLVq",
        "colab": {}
      },
      "source": [
        "feature = 'extraction_type_class'"
      ],
      "execution_count": null,
      "outputs": []
    },
    {
      "cell_type": "code",
      "metadata": {
        "colab_type": "code",
        "id": "OuxHWiH8gLVr",
        "colab": {
          "base_uri": "https://localhost:8080/",
          "height": 153
        },
        "outputId": "557f38ab-9815-42db-83cc-2db628b7185a"
      },
      "source": [
        "X_train[feature].value_counts()"
      ],
      "execution_count": null,
      "outputs": [
        {
          "output_type": "execute_result",
          "data": {
            "text/plain": [
              "gravity         21448\n",
              "handpump        13184\n",
              "other            5193\n",
              "submersible      4894\n",
              "motorpump        2355\n",
              "rope pump         353\n",
              "wind-powered       93\n",
              "Name: extraction_type_class, dtype: int64"
            ]
          },
          "metadata": {
            "tags": []
          },
          "execution_count": 52
        }
      ]
    },
    {
      "cell_type": "code",
      "metadata": {
        "colab_type": "code",
        "id": "pVxoC4NngLVt",
        "colab": {
          "base_uri": "https://localhost:8080/",
          "height": 552
        },
        "outputId": "7bde75fb-98b8-464a-c7b3-921cecd47556"
      },
      "source": [
        "import seaborn as sns\n",
        "plt.figure(figsize=(16,9))\n",
        "sns.barplot(\n",
        "    x=train[feature], \n",
        "    y=train['status_group']=='functional', \n",
        "    color='grey'\n",
        ");"
      ],
      "execution_count": null,
      "outputs": [
        {
          "output_type": "display_data",
          "data": {
            "image/png": "[encoded data removed]",
            "text/plain": [
              "<Figure size 1152x648 with 1 Axes>"
            ]
          },
          "metadata": {
            "tags": [],
            "needs_background": "light"
          }
        }
      ]
    },
    {
      "cell_type": "code",
      "metadata": {
        "colab_type": "code",
        "id": "w99mek14gLVv",
        "colab": {
          "base_uri": "https://localhost:8080/",
          "height": 374
        },
        "outputId": "47d339fe-a8df-42c2-dc3f-e6c0cbdebd28"
      },
      "source": [
        "X_train[feature].head(20)"
      ],
      "execution_count": null,
      "outputs": [
        {
          "output_type": "execute_result",
          "data": {
            "text/plain": [
              "43360        gravity\n",
              "7263         gravity\n",
              "2486        handpump\n",
              "313            other\n",
              "52726      motorpump\n",
              "8558         gravity\n",
              "2559         gravity\n",
              "54735      motorpump\n",
              "25763       handpump\n",
              "44540    submersible\n",
              "28603          other\n",
              "4372     submersible\n",
              "30666        gravity\n",
              "6431     submersible\n",
              "57420          other\n",
              "1373         gravity\n",
              "2026         gravity\n",
              "58977       handpump\n",
              "41101        gravity\n",
              "10019        gravity\n",
              "Name: extraction_type_class, dtype: object"
            ]
          },
          "metadata": {
            "tags": []
          },
          "execution_count": 54
        }
      ]
    },
    {
      "cell_type": "markdown",
      "metadata": {
        "colab_type": "text",
        "id": "ezzK2IdbgLVx"
      },
      "source": [
        "### [One Hot Encoding](http://contrib.scikit-learn.org/categorical-encoding/onehot.html)\n",
        "\n",
        "> Onehot (or dummy) coding for categorical features, produces one feature per category, each binary.\n",
        "\n",
        "Warning: May run slow, or run out of memory, with high cardinality categoricals!"
      ]
    },
    {
      "cell_type": "code",
      "metadata": {
        "colab_type": "code",
        "id": "HDQZtV6GgLVy",
        "colab": {
          "base_uri": "https://localhost:8080/",
          "height": 723
        },
        "outputId": "cbb18134-2604-4d8b-f87b-68ff639c54b4"
      },
      "source": [
        "encoder = ce.OneHotEncoder(use_cat_names=True)\n",
        "encoded = encoder.fit_transform(X_train[[feature]])\n",
        "print(f'{len(encoded.columns)} columns')\n",
        "encoded.head(20)"
      ],
      "execution_count": null,
      "outputs": [
        {
          "output_type": "stream",
          "text": [
            "7 columns\n"
          ],
          "name": "stdout"
        },
        {
          "output_type": "execute_result",
          "data": {
            "text/html": [
              "<div>\n",
              "<style scoped>\n",
              "    .dataframe tbody tr th:only-of-type {\n",
              "        vertical-align: middle;\n",
              "    }\n",
              "\n",
              "    .dataframe tbody tr th {\n",
              "        vertical-align: top;\n",
              "    }\n",
              "\n",
              "    .dataframe thead th {\n",
              "        text-align: right;\n",
              "    }\n",
              "</style>\n",
              "<table border=\"1\" class=\"dataframe\">\n",
              "  <thead>\n",
              "    <tr style=\"text-align: right;\">\n",
              "      <th></th>\n",
              "      <th>extraction_type_class_gravity</th>\n",
              "      <th>extraction_type_class_handpump</th>\n",
              "      <th>extraction_type_class_other</th>\n",
              "      <th>extraction_type_class_motorpump</th>\n",
              "      <th>extraction_type_class_submersible</th>\n",
              "      <th>extraction_type_class_rope pump</th>\n",
              "      <th>extraction_type_class_wind-powered</th>\n",
              "    </tr>\n",
              "  </thead>\n",
              "  <tbody>\n",
              "    <tr>\n",
              "      <th>43360</th>\n",
              "      <td>1</td>\n",
              "      <td>0</td>\n",
              "      <td>0</td>\n",
              "      <td>0</td>\n",
              "      <td>0</td>\n",
              "      <td>0</td>\n",
              "      <td>0</td>\n",
              "    </tr>\n",
              "    <tr>\n",
              "      <th>7263</th>\n",
              "      <td>1</td>\n",
              "      <td>0</td>\n",
              "      <td>0</td>\n",
              "      <td>0</td>\n",
              "      <td>0</td>\n",
              "      <td>0</td>\n",
              "      <td>0</td>\n",
              "    </tr>\n",
              "    <tr>\n",
              "      <th>2486</th>\n",
              "      <td>0</td>\n",
              "      <td>1</td>\n",
              "      <td>0</td>\n",
              "      <td>0</td>\n",
              "      <td>0</td>\n",
              "      <td>0</td>\n",
              "      <td>0</td>\n",
              "    </tr>\n",
              "    <tr>\n",
              "      <th>313</th>\n",
              "      <td>0</td>\n",
              "      <td>0</td>\n",
              "      <td>1</td>\n",
              "      <td>0</td>\n",
              "      <td>0</td>\n",
              "      <td>0</td>\n",
              "      <td>0</td>\n",
              "    </tr>\n",
              "    <tr>\n",
              "      <th>52726</th>\n",
              "      <td>0</td>\n",
              "      <td>0</td>\n",
              "      <td>0</td>\n",
              "      <td>1</td>\n",
              "      <td>0</td>\n",
              "      <td>0</td>\n",
              "      <td>0</td>\n",
              "    </tr>\n",
              "    <tr>\n",
              "      <th>8558</th>\n",
              "      <td>1</td>\n",
              "      <td>0</td>\n",
              "      <td>0</td>\n",
              "      <td>0</td>\n",
              "      <td>0</td>\n",
              "      <td>0</td>\n",
              "      <td>0</td>\n",
              "    </tr>\n",
              "    <tr>\n",
              "      <th>2559</th>\n",
              "      <td>1</td>\n",
              "      <td>0</td>\n",
              "      <td>0</td>\n",
              "      <td>0</td>\n",
              "      <td>0</td>\n",
              "      <td>0</td>\n",
              "      <td>0</td>\n",
              "    </tr>\n",
              "    <tr>\n",
              "      <th>54735</th>\n",
              "      <td>0</td>\n",
              "      <td>0</td>\n",
              "      <td>0</td>\n",
              "      <td>1</td>\n",
              "      <td>0</td>\n",
              "      <td>0</td>\n",
              "      <td>0</td>\n",
              "    </tr>\n",
              "    <tr>\n",
              "      <th>25763</th>\n",
              "      <td>0</td>\n",
              "      <td>1</td>\n",
              "      <td>0</td>\n",
              "      <td>0</td>\n",
              "      <td>0</td>\n",
              "      <td>0</td>\n",
              "      <td>0</td>\n",
              "    </tr>\n",
              "    <tr>\n",
              "      <th>44540</th>\n",
              "      <td>0</td>\n",
              "      <td>0</td>\n",
              "      <td>0</td>\n",
              "      <td>0</td>\n",
              "      <td>1</td>\n",
              "      <td>0</td>\n",
              "      <td>0</td>\n",
              "    </tr>\n",
              "    <tr>\n",
              "      <th>28603</th>\n",
              "      <td>0</td>\n",
              "      <td>0</td>\n",
              "      <td>1</td>\n",
              "      <td>0</td>\n",
              "      <td>0</td>\n",
              "      <td>0</td>\n",
              "      <td>0</td>\n",
              "    </tr>\n",
              "    <tr>\n",
              "      <th>4372</th>\n",
              "      <td>0</td>\n",
              "      <td>0</td>\n",
              "      <td>0</td>\n",
              "      <td>0</td>\n",
              "      <td>1</td>\n",
              "      <td>0</td>\n",
              "      <td>0</td>\n",
              "    </tr>\n",
              "    <tr>\n",
              "      <th>30666</th>\n",
              "      <td>1</td>\n",
              "      <td>0</td>\n",
              "      <td>0</td>\n",
              "      <td>0</td>\n",
              "      <td>0</td>\n",
              "      <td>0</td>\n",
              "      <td>0</td>\n",
              "    </tr>\n",
              "    <tr>\n",
              "      <th>6431</th>\n",
              "      <td>0</td>\n",
              "      <td>0</td>\n",
              "      <td>0</td>\n",
              "      <td>0</td>\n",
              "      <td>1</td>\n",
              "      <td>0</td>\n",
              "      <td>0</td>\n",
              "    </tr>\n",
              "    <tr>\n",
              "      <th>57420</th>\n",
              "      <td>0</td>\n",
              "      <td>0</td>\n",
              "      <td>1</td>\n",
              "      <td>0</td>\n",
              "      <td>0</td>\n",
              "      <td>0</td>\n",
              "      <td>0</td>\n",
              "    </tr>\n",
              "    <tr>\n",
              "      <th>1373</th>\n",
              "      <td>1</td>\n",
              "      <td>0</td>\n",
              "      <td>0</td>\n",
              "      <td>0</td>\n",
              "      <td>0</td>\n",
              "      <td>0</td>\n",
              "      <td>0</td>\n",
              "    </tr>\n",
              "    <tr>\n",
              "      <th>2026</th>\n",
              "      <td>1</td>\n",
              "      <td>0</td>\n",
              "      <td>0</td>\n",
              "      <td>0</td>\n",
              "      <td>0</td>\n",
              "      <td>0</td>\n",
              "      <td>0</td>\n",
              "    </tr>\n",
              "    <tr>\n",
              "      <th>58977</th>\n",
              "      <td>0</td>\n",
              "      <td>1</td>\n",
              "      <td>0</td>\n",
              "      <td>0</td>\n",
              "      <td>0</td>\n",
              "      <td>0</td>\n",
              "      <td>0</td>\n",
              "    </tr>\n",
              "    <tr>\n",
              "      <th>41101</th>\n",
              "      <td>1</td>\n",
              "      <td>0</td>\n",
              "      <td>0</td>\n",
              "      <td>0</td>\n",
              "      <td>0</td>\n",
              "      <td>0</td>\n",
              "      <td>0</td>\n",
              "    </tr>\n",
              "    <tr>\n",
              "      <th>10019</th>\n",
              "      <td>1</td>\n",
              "      <td>0</td>\n",
              "      <td>0</td>\n",
              "      <td>0</td>\n",
              "      <td>0</td>\n",
              "      <td>0</td>\n",
              "      <td>0</td>\n",
              "    </tr>\n",
              "  </tbody>\n",
              "</table>\n",
              "</div>"
            ],
            "text/plain": [
              "       extraction_type_class_gravity  ...  extraction_type_class_wind-powered\n",
              "43360                              1  ...                                   0\n",
              "7263                               1  ...                                   0\n",
              "2486                               0  ...                                   0\n",
              "313                                0  ...                                   0\n",
              "52726                              0  ...                                   0\n",
              "8558                               1  ...                                   0\n",
              "2559                               1  ...                                   0\n",
              "54735                              0  ...                                   0\n",
              "25763                              0  ...                                   0\n",
              "44540                              0  ...                                   0\n",
              "28603                              0  ...                                   0\n",
              "4372                               0  ...                                   0\n",
              "30666                              1  ...                                   0\n",
              "6431                               0  ...                                   0\n",
              "57420                              0  ...                                   0\n",
              "1373                               1  ...                                   0\n",
              "2026                               1  ...                                   0\n",
              "58977                              0  ...                                   0\n",
              "41101                              1  ...                                   0\n",
              "10019                              1  ...                                   0\n",
              "\n",
              "[20 rows x 7 columns]"
            ]
          },
          "metadata": {
            "tags": []
          },
          "execution_count": 55
        }
      ]
    },
    {
      "cell_type": "markdown",
      "metadata": {
        "colab_type": "text",
        "id": "1Ql9Qmw3sNJ7"
      },
      "source": [
        "#### One-Hot Encoding, Logistic Regression, Validation Accuracy"
      ]
    },
    {
      "cell_type": "code",
      "metadata": {
        "colab_type": "code",
        "id": "mT4A-oDGpOss",
        "colab": {
          "base_uri": "https://localhost:8080/",
          "height": 34
        },
        "outputId": "8cbf8d50-2325-4d15-a8c2-429974e9ccd6"
      },
      "source": [
        "from sklearn.linear_model import LogisticRegressionCV\n",
        "from sklearn.preprocessing import StandardScaler\n",
        "\n",
        "lr = make_pipeline(\n",
        "    ce.OneHotEncoder(use_cat_names=True), \n",
        "    SimpleImputer(), \n",
        "    StandardScaler(), \n",
        "    LogisticRegressionCV(multi_class='auto', solver='lbfgs', cv=5, n_jobs=-1)\n",
        ")\n",
        "\n",
        "lr.fit(X_train[[feature]], y_train)\n",
        "score = lr.score(X_val[[feature]], y_val)\n",
        "print('Logistic Regression, Validation Accuracy', score)"
      ],
      "execution_count": null,
      "outputs": [
        {
          "output_type": "stream",
          "text": [
            "Logistic Regression, Validation Accuracy 0.6202861952861953\n"
          ],
          "name": "stdout"
        }
      ]
    },
    {
      "cell_type": "markdown",
      "metadata": {
        "colab_type": "text",
        "id": "EbH6wivpsRuV"
      },
      "source": [
        "#### One-Hot Encoding, Decision Tree, Validation Accuracy"
      ]
    },
    {
      "cell_type": "code",
      "metadata": {
        "colab_type": "code",
        "id": "b6KUluFOqIdK",
        "colab": {
          "base_uri": "https://localhost:8080/",
          "height": 34
        },
        "outputId": "92dc4d84-a28b-4628-f96a-7fbe348f9257"
      },
      "source": [
        "from sklearn.tree import DecisionTreeClassifier\n",
        "\n",
        "dt = make_pipeline(\n",
        "    ce.OneHotEncoder(use_cat_names=True), \n",
        "    SimpleImputer(), \n",
        "    DecisionTreeClassifier(random_state=42)\n",
        ")\n",
        "\n",
        "dt.fit(X_train[[feature]], y_train)\n",
        "score = dt.score(X_val[[feature]], y_val)\n",
        "print('Decision Tree, Validation Accuracy', score)"
      ],
      "execution_count": null,
      "outputs": [
        {
          "output_type": "stream",
          "text": [
            "Decision Tree, Validation Accuracy 0.6202861952861953\n"
          ],
          "name": "stdout"
        }
      ]
    },
    {
      "cell_type": "markdown",
      "metadata": {
        "colab_type": "text",
        "id": "8yg11_gTsUu6"
      },
      "source": [
        "#### One-Hot Encoding, Logistic Regression, Model Interpretation"
      ]
    },
    {
      "cell_type": "code",
      "metadata": {
        "colab_type": "code",
        "id": "IxHwXGRornNI",
        "colab": {
          "base_uri": "https://localhost:8080/",
          "height": 265
        },
        "outputId": "e573d83b-8939-4186-f009-ce346c048f80"
      },
      "source": [
        "model = lr.named_steps['logisticregressioncv']\n",
        "encoder = lr.named_steps['onehotencoder']\n",
        "encoded_columns = encoder.transform(X_val[[feature]]).columns\n",
        "coefficients = pd.Series(model.coef_[0], encoded_columns)\n",
        "coefficients.sort_values().plot.barh(color='grey');"
      ],
      "execution_count": null,
      "outputs": [
        {
          "output_type": "display_data",
          "data": {
            "image/png": "[encoded data removed]",
            "text/plain": [
              "<Figure size 432x288 with 1 Axes>"
            ]
          },
          "metadata": {
            "tags": [],
            "needs_background": "light"
          }
        }
      ]
    },
    {
      "cell_type": "markdown",
      "metadata": {
        "colab_type": "text",
        "id": "0REZ8HdpsccR"
      },
      "source": [
        "#### One-Hot Encoding, Decision Tree, Model Interpretation"
      ]
    },
    {
      "cell_type": "code",
      "metadata": {
        "colab_type": "code",
        "id": "gV-grmYKpDp9",
        "colab": {
          "base_uri": "https://localhost:8080/",
          "height": 1000
        },
        "outputId": "11a169fd-8603-4685-f1ed-0671bbee98a9"
      },
      "source": [
        "# Plot tree\n",
        "# https://scikit-learn.org/stable/modules/generated/sklearn.tree.export_graphviz.html\n",
        "import graphviz\n",
        "from sklearn.tree import export_graphviz\n",
        "\n",
        "model = dt.named_steps['decisiontreeclassifier']\n",
        "encoder = dt.named_steps['onehotencoder']\n",
        "encoded_columns = encoder.transform(X_val[[feature]]).columns\n",
        "\n",
        "dot_data = export_graphviz(model, \n",
        "                           out_file=None, \n",
        "                           max_depth=7, \n",
        "                           feature_names=encoded_columns,\n",
        "                           class_names=model.classes_, \n",
        "                           impurity=True, \n",
        "                           filled=False, \n",
        "                           proportion=True, \n",
        "                           rounded=False)   \n",
        "display(graphviz.Source(dot_data))"
      ],
      "execution_count": null,
      "outputs": [
        {
          "output_type": "display_data",
          "data": {
            "text/plain": [
              "<graphviz.files.Source at 0x7f959c117240>"
            ],
            "image/svg+xml": "<?xml version=\"1.0\" encoding=\"UTF-8\" standalone=\"no\"?>\n<!DOCTYPE svg PUBLIC \"-//W3C//DTD SVG 1.1//EN\"\n \"http://www.w3.org/Graphics/SVG/1.1/DTD/svg11.dtd\">\n<!-- Generated by graphviz version 2.40.1 (20161225.0304)\n -->\n<!-- Title: Tree Pages: 1 -->\n<svg width=\"992pt\" height=\"790pt\"\n viewBox=\"0.00 0.00 991.50 790.00\" xmlns=\"http://www.w3.org/2000/svg\" xmlns:xlink=\"http://www.w3.org/1999/xlink\">\n<g id=\"graph0\" class=\"graph\" transform=\"scale(1 1) rotate(0) translate(4 786)\">\n<title>Tree</title>\n<polygon fill=\"#ffffff\" stroke=\"transparent\" points=\"-4,4 -4,-786 987.5,-786 987.5,4 -4,4\"/>\n<!-- 0 -->\n<g id=\"node1\" class=\"node\">\n<title>0</title>\n<polygon fill=\"none\" stroke=\"#000000\" points=\"883,-782 665,-782 665,-699 883,-699 883,-782\"/>\n<text text-anchor=\"middle\" x=\"774\" y=\"-766.8\" font-family=\"Times,serif\" font-size=\"14.00\" fill=\"#000000\">extraction_type_class_other &lt;= 0.5</text>\n<text text-anchor=\"middle\" x=\"774\" y=\"-751.8\" font-family=\"Times,serif\" font-size=\"14.00\" fill=\"#000000\">gini = 0.552</text>\n<text text-anchor=\"middle\" x=\"774\" y=\"-736.8\" font-family=\"Times,serif\" font-size=\"14.00\" fill=\"#000000\">samples = 100.0%</text>\n<text text-anchor=\"middle\" x=\"774\" y=\"-721.8\" font-family=\"Times,serif\" font-size=\"14.00\" fill=\"#000000\">value = [0.543, 0.073, 0.384]</text>\n<text text-anchor=\"middle\" x=\"774\" y=\"-706.8\" font-family=\"Times,serif\" font-size=\"14.00\" fill=\"#000000\">class = functional</text>\n</g>\n<!-- 1 -->\n<g id=\"node2\" class=\"node\">\n<title>1</title>\n<polygon fill=\"none\" stroke=\"#000000\" points=\"784.5,-663 527.5,-663 527.5,-580 784.5,-580 784.5,-663\"/>\n<text text-anchor=\"middle\" x=\"656\" y=\"-647.8\" font-family=\"Times,serif\" font-size=\"14.00\" fill=\"#000000\">extraction_type_class_motorpump &lt;= 0.5</text>\n<text text-anchor=\"middle\" x=\"656\" y=\"-632.8\" font-family=\"Times,serif\" font-size=\"14.00\" fill=\"#000000\">gini = 0.535</text>\n<text text-anchor=\"middle\" x=\"656\" y=\"-617.8\" font-family=\"Times,serif\" font-size=\"14.00\" fill=\"#000000\">samples = 89.1%</text>\n<text text-anchor=\"middle\" x=\"656\" y=\"-602.8\" font-family=\"Times,serif\" font-size=\"14.00\" fill=\"#000000\">value = [0.59, 0.078, 0.332]</text>\n<text text-anchor=\"middle\" x=\"656\" y=\"-587.8\" font-family=\"Times,serif\" font-size=\"14.00\" fill=\"#000000\">class = functional</text>\n</g>\n<!-- 0&#45;&gt;1 -->\n<g id=\"edge1\" class=\"edge\">\n<title>0&#45;&gt;1</title>\n<path fill=\"none\" stroke=\"#000000\" d=\"M732.7293,-698.8796C723.6201,-689.6931 713.8892,-679.8798 704.5224,-670.4336\"/>\n<polygon fill=\"#000000\" stroke=\"#000000\" points=\"706.9733,-667.9345 697.4468,-663.2981 702.0027,-672.8634 706.9733,-667.9345\"/>\n<text text-anchor=\"middle\" x=\"697.3413\" y=\"-684.5978\" font-family=\"Times,serif\" font-size=\"14.00\" fill=\"#000000\">True</text>\n</g>\n<!-- 12 -->\n<g id=\"node13\" class=\"node\">\n<title>12</title>\n<polygon fill=\"none\" stroke=\"#000000\" points=\"983.5,-655.5 802.5,-655.5 802.5,-587.5 983.5,-587.5 983.5,-655.5\"/>\n<text text-anchor=\"middle\" x=\"893\" y=\"-640.3\" font-family=\"Times,serif\" font-size=\"14.00\" fill=\"#000000\">gini = 0.318</text>\n<text text-anchor=\"middle\" x=\"893\" y=\"-625.3\" font-family=\"Times,serif\" font-size=\"14.00\" fill=\"#000000\">samples = 10.9%</text>\n<text text-anchor=\"middle\" x=\"893\" y=\"-610.3\" font-family=\"Times,serif\" font-size=\"14.00\" fill=\"#000000\">value = [0.159, 0.031, 0.81]</text>\n<text text-anchor=\"middle\" x=\"893\" y=\"-595.3\" font-family=\"Times,serif\" font-size=\"14.00\" fill=\"#000000\">class = non functional</text>\n</g>\n<!-- 0&#45;&gt;12 -->\n<g id=\"edge12\" class=\"edge\">\n<title>0&#45;&gt;12</title>\n<path fill=\"none\" stroke=\"#000000\" d=\"M815.6204,-698.8796C827.2763,-687.2237 839.9413,-674.5587 851.5852,-662.9148\"/>\n<polygon fill=\"#000000\" stroke=\"#000000\" points=\"854.0889,-665.3609 858.6851,-655.8149 849.1391,-660.4111 854.0889,-665.3609\"/>\n<text text-anchor=\"middle\" x=\"858.6851\" y=\"-677.1149\" font-family=\"Times,serif\" font-size=\"14.00\" fill=\"#000000\">False</text>\n</g>\n<!-- 2 -->\n<g id=\"node3\" class=\"node\">\n<title>2</title>\n<polygon fill=\"none\" stroke=\"#000000\" points=\"664.5,-544 407.5,-544 407.5,-461 664.5,-461 664.5,-544\"/>\n<text text-anchor=\"middle\" x=\"536\" y=\"-528.8\" font-family=\"Times,serif\" font-size=\"14.00\" fill=\"#000000\">extraction_type_class_submersible &lt;= 0.5</text>\n<text text-anchor=\"middle\" x=\"536\" y=\"-513.8\" font-family=\"Times,serif\" font-size=\"14.00\" fill=\"#000000\">gini = 0.53</text>\n<text text-anchor=\"middle\" x=\"536\" y=\"-498.8\" font-family=\"Times,serif\" font-size=\"14.00\" fill=\"#000000\">samples = 84.1%</text>\n<text text-anchor=\"middle\" x=\"536\" y=\"-483.8\" font-family=\"Times,serif\" font-size=\"14.00\" fill=\"#000000\">value = [0.603, 0.08, 0.318]</text>\n<text text-anchor=\"middle\" x=\"536\" y=\"-468.8\" font-family=\"Times,serif\" font-size=\"14.00\" fill=\"#000000\">class = functional</text>\n</g>\n<!-- 1&#45;&gt;2 -->\n<g id=\"edge2\" class=\"edge\">\n<title>1&#45;&gt;2</title>\n<path fill=\"none\" stroke=\"#000000\" d=\"M614.0298,-579.8796C604.7662,-570.6931 594.8704,-560.8798 585.3448,-551.4336\"/>\n<polygon fill=\"#000000\" stroke=\"#000000\" points=\"587.7144,-548.8543 578.1493,-544.2981 582.7854,-553.8247 587.7144,-548.8543\"/>\n</g>\n<!-- 11 -->\n<g id=\"node12\" class=\"node\">\n<title>11</title>\n<polygon fill=\"none\" stroke=\"#000000\" points=\"871,-536.5 683,-536.5 683,-468.5 871,-468.5 871,-536.5\"/>\n<text text-anchor=\"middle\" x=\"777\" y=\"-521.3\" font-family=\"Times,serif\" font-size=\"14.00\" fill=\"#000000\">gini = 0.523</text>\n<text text-anchor=\"middle\" x=\"777\" y=\"-506.3\" font-family=\"Times,serif\" font-size=\"14.00\" fill=\"#000000\">samples = 5.0%</text>\n<text text-anchor=\"middle\" x=\"777\" y=\"-491.3\" font-family=\"Times,serif\" font-size=\"14.00\" fill=\"#000000\">value = [0.381, 0.045, 0.574]</text>\n<text text-anchor=\"middle\" x=\"777\" y=\"-476.3\" font-family=\"Times,serif\" font-size=\"14.00\" fill=\"#000000\">class = non functional</text>\n</g>\n<!-- 1&#45;&gt;11 -->\n<g id=\"edge11\" class=\"edge\">\n<title>1&#45;&gt;11</title>\n<path fill=\"none\" stroke=\"#000000\" d=\"M698.3199,-579.8796C710.1717,-568.2237 723.0495,-555.5587 734.8891,-543.9148\"/>\n<polygon fill=\"#000000\" stroke=\"#000000\" points=\"737.4327,-546.3223 742.1083,-536.8149 732.5244,-541.3314 737.4327,-546.3223\"/>\n</g>\n<!-- 3 -->\n<g id=\"node4\" class=\"node\">\n<title>3</title>\n<polygon fill=\"none\" stroke=\"#000000\" points=\"538,-425 308,-425 308,-342 538,-342 538,-425\"/>\n<text text-anchor=\"middle\" x=\"423\" y=\"-409.8\" font-family=\"Times,serif\" font-size=\"14.00\" fill=\"#000000\">extraction_type_class_gravity &lt;= 0.5</text>\n<text text-anchor=\"middle\" x=\"423\" y=\"-394.8\" font-family=\"Times,serif\" font-size=\"14.00\" fill=\"#000000\">gini = 0.527</text>\n<text text-anchor=\"middle\" x=\"423\" y=\"-379.8\" font-family=\"Times,serif\" font-size=\"14.00\" fill=\"#000000\">samples = 73.8%</text>\n<text text-anchor=\"middle\" x=\"423\" y=\"-364.8\" font-family=\"Times,serif\" font-size=\"14.00\" fill=\"#000000\">value = [0.611, 0.085, 0.304]</text>\n<text text-anchor=\"middle\" x=\"423\" y=\"-349.8\" font-family=\"Times,serif\" font-size=\"14.00\" fill=\"#000000\">class = functional</text>\n</g>\n<!-- 2&#45;&gt;3 -->\n<g id=\"edge3\" class=\"edge\">\n<title>2&#45;&gt;3</title>\n<path fill=\"none\" stroke=\"#000000\" d=\"M496.4781,-460.8796C487.8403,-451.7832 478.619,-442.0722 469.7303,-432.7116\"/>\n<polygon fill=\"#000000\" stroke=\"#000000\" points=\"472.1146,-430.1395 462.6906,-425.2981 467.0385,-434.9597 472.1146,-430.1395\"/>\n</g>\n<!-- 10 -->\n<g id=\"node11\" class=\"node\">\n<title>10</title>\n<polygon fill=\"none\" stroke=\"#000000\" points=\"744,-417.5 556,-417.5 556,-349.5 744,-349.5 744,-417.5\"/>\n<text text-anchor=\"middle\" x=\"650\" y=\"-402.3\" font-family=\"Times,serif\" font-size=\"14.00\" fill=\"#000000\">gini = 0.532</text>\n<text text-anchor=\"middle\" x=\"650\" y=\"-387.3\" font-family=\"Times,serif\" font-size=\"14.00\" fill=\"#000000\">samples = 10.3%</text>\n<text text-anchor=\"middle\" x=\"650\" y=\"-372.3\" font-family=\"Times,serif\" font-size=\"14.00\" fill=\"#000000\">value = [0.541, 0.042, 0.416]</text>\n<text text-anchor=\"middle\" x=\"650\" y=\"-357.3\" font-family=\"Times,serif\" font-size=\"14.00\" fill=\"#000000\">class = functional</text>\n</g>\n<!-- 2&#45;&gt;10 -->\n<g id=\"edge10\" class=\"edge\">\n<title>2&#45;&gt;10</title>\n<path fill=\"none\" stroke=\"#000000\" d=\"M575.8717,-460.8796C586.9324,-449.3337 598.9418,-436.7976 610.0094,-425.2446\"/>\n<polygon fill=\"#000000\" stroke=\"#000000\" points=\"612.7365,-427.4573 617.1269,-417.8149 607.6817,-422.6149 612.7365,-427.4573\"/>\n</g>\n<!-- 4 -->\n<g id=\"node5\" class=\"node\">\n<title>4</title>\n<polygon fill=\"none\" stroke=\"#000000\" points=\"435,-306 163,-306 163,-223 435,-223 435,-306\"/>\n<text text-anchor=\"middle\" x=\"299\" y=\"-290.8\" font-family=\"Times,serif\" font-size=\"14.00\" fill=\"#000000\">extraction_type_class_wind&#45;powered &lt;= 0.5</text>\n<text text-anchor=\"middle\" x=\"299\" y=\"-275.8\" font-family=\"Times,serif\" font-size=\"14.00\" fill=\"#000000\">gini = 0.504</text>\n<text text-anchor=\"middle\" x=\"299\" y=\"-260.8\" font-family=\"Times,serif\" font-size=\"14.00\" fill=\"#000000\">samples = 28.7%</text>\n<text text-anchor=\"middle\" x=\"299\" y=\"-245.8\" font-family=\"Times,serif\" font-size=\"14.00\" fill=\"#000000\">value = [0.629, 0.059, 0.311]</text>\n<text text-anchor=\"middle\" x=\"299\" y=\"-230.8\" font-family=\"Times,serif\" font-size=\"14.00\" fill=\"#000000\">class = functional</text>\n</g>\n<!-- 3&#45;&gt;4 -->\n<g id=\"edge4\" class=\"edge\">\n<title>3&#45;&gt;4</title>\n<path fill=\"none\" stroke=\"#000000\" d=\"M379.6308,-341.8796C370.0584,-332.6931 359.8328,-322.8798 349.9897,-313.4336\"/>\n<polygon fill=\"#000000\" stroke=\"#000000\" points=\"352.1928,-310.6969 342.5543,-306.2981 347.3459,-315.7475 352.1928,-310.6969\"/>\n</g>\n<!-- 9 -->\n<g id=\"node10\" class=\"node\">\n<title>9</title>\n<polygon fill=\"none\" stroke=\"#000000\" points=\"641,-298.5 453,-298.5 453,-230.5 641,-230.5 641,-298.5\"/>\n<text text-anchor=\"middle\" x=\"547\" y=\"-283.3\" font-family=\"Times,serif\" font-size=\"14.00\" fill=\"#000000\">gini = 0.541</text>\n<text text-anchor=\"middle\" x=\"547\" y=\"-268.3\" font-family=\"Times,serif\" font-size=\"14.00\" fill=\"#000000\">samples = 45.1%</text>\n<text text-anchor=\"middle\" x=\"547\" y=\"-253.3\" font-family=\"Times,serif\" font-size=\"14.00\" fill=\"#000000\">value = [0.599, 0.101, 0.299]</text>\n<text text-anchor=\"middle\" x=\"547\" y=\"-238.3\" font-family=\"Times,serif\" font-size=\"14.00\" fill=\"#000000\">class = functional</text>\n</g>\n<!-- 3&#45;&gt;9 -->\n<g id=\"edge9\" class=\"edge\">\n<title>3&#45;&gt;9</title>\n<path fill=\"none\" stroke=\"#000000\" d=\"M466.3692,-341.8796C478.5148,-330.2237 491.7119,-317.5587 503.8451,-305.9148\"/>\n<polygon fill=\"#000000\" stroke=\"#000000\" points=\"506.4516,-308.2643 511.2433,-298.8149 501.6047,-303.2138 506.4516,-308.2643\"/>\n</g>\n<!-- 5 -->\n<g id=\"node6\" class=\"node\">\n<title>5</title>\n<polygon fill=\"none\" stroke=\"#000000\" points=\"306,-187 54,-187 54,-104 306,-104 306,-187\"/>\n<text text-anchor=\"middle\" x=\"180\" y=\"-171.8\" font-family=\"Times,serif\" font-size=\"14.00\" fill=\"#000000\">extraction_type_class_rope pump &lt;= 0.5</text>\n<text text-anchor=\"middle\" x=\"180\" y=\"-156.8\" font-family=\"Times,serif\" font-size=\"14.00\" fill=\"#000000\">gini = 0.503</text>\n<text text-anchor=\"middle\" x=\"180\" y=\"-141.8\" font-family=\"Times,serif\" font-size=\"14.00\" fill=\"#000000\">samples = 28.5%</text>\n<text text-anchor=\"middle\" x=\"180\" y=\"-126.8\" font-family=\"Times,serif\" font-size=\"14.00\" fill=\"#000000\">value = [0.631, 0.059, 0.31]</text>\n<text text-anchor=\"middle\" x=\"180\" y=\"-111.8\" font-family=\"Times,serif\" font-size=\"14.00\" fill=\"#000000\">class = functional</text>\n</g>\n<!-- 4&#45;&gt;5 -->\n<g id=\"edge5\" class=\"edge\">\n<title>4&#45;&gt;5</title>\n<path fill=\"none\" stroke=\"#000000\" d=\"M257.3796,-222.8796C248.1931,-213.6931 238.3798,-203.8798 228.9336,-194.4336\"/>\n<polygon fill=\"#000000\" stroke=\"#000000\" points=\"231.3441,-191.8943 221.7981,-187.2981 226.3943,-196.8441 231.3441,-191.8943\"/>\n</g>\n<!-- 8 -->\n<g id=\"node9\" class=\"node\">\n<title>8</title>\n<polygon fill=\"none\" stroke=\"#000000\" points=\"512,-179.5 324,-179.5 324,-111.5 512,-111.5 512,-179.5\"/>\n<text text-anchor=\"middle\" x=\"418\" y=\"-164.3\" font-family=\"Times,serif\" font-size=\"14.00\" fill=\"#000000\">gini = 0.558</text>\n<text text-anchor=\"middle\" x=\"418\" y=\"-149.3\" font-family=\"Times,serif\" font-size=\"14.00\" fill=\"#000000\">samples = 0.2%</text>\n<text text-anchor=\"middle\" x=\"418\" y=\"-134.3\" font-family=\"Times,serif\" font-size=\"14.00\" fill=\"#000000\">value = [0.452, 0.065, 0.484]</text>\n<text text-anchor=\"middle\" x=\"418\" y=\"-119.3\" font-family=\"Times,serif\" font-size=\"14.00\" fill=\"#000000\">class = non functional</text>\n</g>\n<!-- 4&#45;&gt;8 -->\n<g id=\"edge8\" class=\"edge\">\n<title>4&#45;&gt;8</title>\n<path fill=\"none\" stroke=\"#000000\" d=\"M340.6204,-222.8796C352.2763,-211.2237 364.9413,-198.5587 376.5852,-186.9148\"/>\n<polygon fill=\"#000000\" stroke=\"#000000\" points=\"379.0889,-189.3609 383.6851,-179.8149 374.1391,-184.4111 379.0889,-189.3609\"/>\n</g>\n<!-- 6 -->\n<g id=\"node7\" class=\"node\">\n<title>6</title>\n<polygon fill=\"none\" stroke=\"#000000\" points=\"166,-68 0,-68 0,0 166,0 166,-68\"/>\n<text text-anchor=\"middle\" x=\"83\" y=\"-52.8\" font-family=\"Times,serif\" font-size=\"14.00\" fill=\"#000000\">gini = 0.503</text>\n<text text-anchor=\"middle\" x=\"83\" y=\"-37.8\" font-family=\"Times,serif\" font-size=\"14.00\" fill=\"#000000\">samples = 27.7%</text>\n<text text-anchor=\"middle\" x=\"83\" y=\"-22.8\" font-family=\"Times,serif\" font-size=\"14.00\" fill=\"#000000\">value = [0.63, 0.06, 0.31]</text>\n<text text-anchor=\"middle\" x=\"83\" y=\"-7.8\" font-family=\"Times,serif\" font-size=\"14.00\" fill=\"#000000\">class = functional</text>\n</g>\n<!-- 5&#45;&gt;6 -->\n<g id=\"edge6\" class=\"edge\">\n<title>5&#45;&gt;6</title>\n<path fill=\"none\" stroke=\"#000000\" d=\"M143.8808,-103.9815C135.8853,-94.7908 127.4087,-85.0472 119.4021,-75.8436\"/>\n<polygon fill=\"#000000\" stroke=\"#000000\" points=\"122.012,-73.5111 112.8079,-68.2637 116.7307,-78.1055 122.012,-73.5111\"/>\n</g>\n<!-- 7 -->\n<g id=\"node8\" class=\"node\">\n<title>7</title>\n<polygon fill=\"none\" stroke=\"#000000\" points=\"372,-68 184,-68 184,0 372,0 372,-68\"/>\n<text text-anchor=\"middle\" x=\"278\" y=\"-52.8\" font-family=\"Times,serif\" font-size=\"14.00\" fill=\"#000000\">gini = 0.473</text>\n<text text-anchor=\"middle\" x=\"278\" y=\"-37.8\" font-family=\"Times,serif\" font-size=\"14.00\" fill=\"#000000\">samples = 0.7%</text>\n<text text-anchor=\"middle\" x=\"278\" y=\"-22.8\" font-family=\"Times,serif\" font-size=\"14.00\" fill=\"#000000\">value = [0.657, 0.037, 0.306]</text>\n<text text-anchor=\"middle\" x=\"278\" y=\"-7.8\" font-family=\"Times,serif\" font-size=\"14.00\" fill=\"#000000\">class = functional</text>\n</g>\n<!-- 5&#45;&gt;7 -->\n<g id=\"edge7\" class=\"edge\">\n<title>5&#45;&gt;7</title>\n<path fill=\"none\" stroke=\"#000000\" d=\"M216.4916,-103.9815C224.5695,-94.7908 233.1334,-85.0472 241.2226,-75.8436\"/>\n<polygon fill=\"#000000\" stroke=\"#000000\" points=\"243.912,-78.0855 247.8848,-68.2637 238.6542,-73.4642 243.912,-78.0855\"/>\n</g>\n</g>\n</svg>\n"
          },
          "metadata": {
            "tags": []
          }
        }
      ]
    },
    {
      "cell_type": "code",
      "metadata": {
        "id": "31V7L6bVjmEA",
        "colab_type": "code",
        "colab": {
          "base_uri": "https://localhost:8080/",
          "height": 425
        },
        "outputId": "7ac4d83e-ca79-47ce-8333-0df51c7f0050"
      },
      "source": [
        "pipeline"
      ],
      "execution_count": null,
      "outputs": [
        {
          "output_type": "execute_result",
          "data": {
            "text/plain": [
              "Pipeline(memory=None,\n",
              "         steps=[('ordinalencoder',\n",
              "                 OrdinalEncoder(cols=['funder', 'installer', 'wpt_name',\n",
              "                                      'basin', 'subvillage', 'region', 'lga',\n",
              "                                      'ward', 'public_meeting',\n",
              "                                      'scheme_management', 'scheme_name',\n",
              "                                      'permit', 'extraction_type',\n",
              "                                      'extraction_type_group',\n",
              "                                      'extraction_type_class', 'management',\n",
              "                                      'management_group', 'payment',\n",
              "                                      'water_quality', 'quality_group',\n",
              "                                      'quantit...\n",
              "                 RandomForestClassifier(bootstrap=True, ccp_alpha=0.0,\n",
              "                                        class_weight=None, criterion='gini',\n",
              "                                        max_depth=None, max_features='auto',\n",
              "                                        max_leaf_nodes=None, max_samples=None,\n",
              "                                        min_impurity_decrease=0.0,\n",
              "                                        min_impurity_split=None,\n",
              "                                        min_samples_leaf=1, min_samples_split=2,\n",
              "                                        min_weight_fraction_leaf=0.0,\n",
              "                                        n_estimators=100, n_jobs=-1,\n",
              "                                        oob_score=False, random_state=0,\n",
              "                                        verbose=0, warm_start=False))],\n",
              "         verbose=False)"
            ]
          },
          "metadata": {
            "tags": []
          },
          "execution_count": 60
        }
      ]
    },
    {
      "cell_type": "code",
      "metadata": {
        "id": "r5u9RxSqJhvN",
        "colab_type": "code",
        "colab": {
          "base_uri": "https://localhost:8080/",
          "height": 170
        },
        "outputId": "bc1dfa3b-35bd-42a8-f5a6-3308d41111ed"
      },
      "source": [
        "pipeline.named_steps['randomforestclassifier'].feature_importances_"
      ],
      "execution_count": null,
      "outputs": [
        {
          "output_type": "execute_result",
          "data": {
            "text/plain": [
              "array([0.02334523, 0.02946014, 0.04360734, 0.02511029, 0.07985859,\n",
              "       0.07925025, 0.05681825, 0.00097907, 0.01248651, 0.05278803,\n",
              "       0.01297126, 0.01335522, 0.01559236, 0.02188216, 0.03598611,\n",
              "       0.03095588, 0.0074288 , 0.01183177, 0.02279487, 0.00669209,\n",
              "       0.03148444, 0.01830741, 0.0177702 , 0.01993038, 0.01181866,\n",
              "       0.00470702, 0.02008464, 0.00793054, 0.00830949, 0.08488853,\n",
              "       0.01327495, 0.01257504, 0.00457754, 0.03590192, 0.02668185,\n",
              "       0.00136767, 0.00149371, 0.00186524, 0.00199941, 0.00184837,\n",
              "       0.00476016, 0.01459462, 0.03639371, 0.0324259 , 0.00181439])"
            ]
          },
          "metadata": {
            "tags": []
          },
          "execution_count": 61
        }
      ]
    },
    {
      "cell_type": "markdown",
      "metadata": {
        "colab_type": "text",
        "id": "QUd6gzcZgLVz"
      },
      "source": [
        "### [Ordinal Encoding](http://contrib.scikit-learn.org/categorical-encoding/ordinal.html)\n",
        "\n",
        "> Ordinal encoding uses a single column of integers to represent the classes. An optional mapping dict can be passed in; in this case, we use the knowledge that there is some true order to the classes themselves. Otherwise, the classes are assumed to have no true order and integers are selected at random."
      ]
    },
    {
      "cell_type": "code",
      "metadata": {
        "id": "096jZpLUnU9B",
        "colab_type": "code",
        "colab": {
          "base_uri": "https://localhost:8080/",
          "height": 204
        },
        "outputId": "73e68039-3fe9-46de-8a3f-3389e1dd1db6"
      },
      "source": [
        "# what does the original column look like?\n",
        "X_train[[feature]].head()"
      ],
      "execution_count": null,
      "outputs": [
        {
          "output_type": "execute_result",
          "data": {
            "text/html": [
              "<div>\n",
              "<style scoped>\n",
              "    .dataframe tbody tr th:only-of-type {\n",
              "        vertical-align: middle;\n",
              "    }\n",
              "\n",
              "    .dataframe tbody tr th {\n",
              "        vertical-align: top;\n",
              "    }\n",
              "\n",
              "    .dataframe thead th {\n",
              "        text-align: right;\n",
              "    }\n",
              "</style>\n",
              "<table border=\"1\" class=\"dataframe\">\n",
              "  <thead>\n",
              "    <tr style=\"text-align: right;\">\n",
              "      <th></th>\n",
              "      <th>extraction_type_class</th>\n",
              "    </tr>\n",
              "  </thead>\n",
              "  <tbody>\n",
              "    <tr>\n",
              "      <th>43360</th>\n",
              "      <td>gravity</td>\n",
              "    </tr>\n",
              "    <tr>\n",
              "      <th>7263</th>\n",
              "      <td>gravity</td>\n",
              "    </tr>\n",
              "    <tr>\n",
              "      <th>2486</th>\n",
              "      <td>handpump</td>\n",
              "    </tr>\n",
              "    <tr>\n",
              "      <th>313</th>\n",
              "      <td>other</td>\n",
              "    </tr>\n",
              "    <tr>\n",
              "      <th>52726</th>\n",
              "      <td>motorpump</td>\n",
              "    </tr>\n",
              "  </tbody>\n",
              "</table>\n",
              "</div>"
            ],
            "text/plain": [
              "      extraction_type_class\n",
              "43360               gravity\n",
              "7263                gravity\n",
              "2486               handpump\n",
              "313                   other\n",
              "52726             motorpump"
            ]
          },
          "metadata": {
            "tags": []
          },
          "execution_count": 62
        }
      ]
    },
    {
      "cell_type": "code",
      "metadata": {
        "colab_type": "code",
        "id": "CnBz2RbwgLVz",
        "colab": {
          "base_uri": "https://localhost:8080/",
          "height": 221
        },
        "outputId": "2c262721-c229-421d-df93-854fbbaa1bf1"
      },
      "source": [
        "# let's apply ordinal encoding to that column!\n",
        "encoder = ce.OrdinalEncoder()\n",
        "encoded = encoder.fit_transform(X_train[[feature]])\n",
        "print(f'1 column, {encoded[feature].nunique()} unique values')\n",
        "encoded.head(5)"
      ],
      "execution_count": null,
      "outputs": [
        {
          "output_type": "stream",
          "text": [
            "1 column, 7 unique values\n"
          ],
          "name": "stdout"
        },
        {
          "output_type": "execute_result",
          "data": {
            "text/html": [
              "<div>\n",
              "<style scoped>\n",
              "    .dataframe tbody tr th:only-of-type {\n",
              "        vertical-align: middle;\n",
              "    }\n",
              "\n",
              "    .dataframe tbody tr th {\n",
              "        vertical-align: top;\n",
              "    }\n",
              "\n",
              "    .dataframe thead th {\n",
              "        text-align: right;\n",
              "    }\n",
              "</style>\n",
              "<table border=\"1\" class=\"dataframe\">\n",
              "  <thead>\n",
              "    <tr style=\"text-align: right;\">\n",
              "      <th></th>\n",
              "      <th>extraction_type_class</th>\n",
              "    </tr>\n",
              "  </thead>\n",
              "  <tbody>\n",
              "    <tr>\n",
              "      <th>43360</th>\n",
              "      <td>1</td>\n",
              "    </tr>\n",
              "    <tr>\n",
              "      <th>7263</th>\n",
              "      <td>1</td>\n",
              "    </tr>\n",
              "    <tr>\n",
              "      <th>2486</th>\n",
              "      <td>2</td>\n",
              "    </tr>\n",
              "    <tr>\n",
              "      <th>313</th>\n",
              "      <td>3</td>\n",
              "    </tr>\n",
              "    <tr>\n",
              "      <th>52726</th>\n",
              "      <td>4</td>\n",
              "    </tr>\n",
              "  </tbody>\n",
              "</table>\n",
              "</div>"
            ],
            "text/plain": [
              "       extraction_type_class\n",
              "43360                      1\n",
              "7263                       1\n",
              "2486                       2\n",
              "313                        3\n",
              "52726                      4"
            ]
          },
          "metadata": {
            "tags": []
          },
          "execution_count": 63
        }
      ]
    },
    {
      "cell_type": "code",
      "metadata": {
        "id": "NjGac1dUnMP3",
        "colab_type": "code",
        "colab": {
          "base_uri": "https://localhost:8080/",
          "height": 153
        },
        "outputId": "39a8a048-34f5-474f-9e4d-fffc46f5ce17"
      },
      "source": [
        "# what are the new values?\n",
        "encoded['extraction_type_class'].value_counts().sort_index()"
      ],
      "execution_count": null,
      "outputs": [
        {
          "output_type": "execute_result",
          "data": {
            "text/plain": [
              "1    21448\n",
              "2    13184\n",
              "3     5193\n",
              "4     2355\n",
              "5     4894\n",
              "6      353\n",
              "7       93\n",
              "Name: extraction_type_class, dtype: int64"
            ]
          },
          "metadata": {
            "tags": []
          },
          "execution_count": 64
        }
      ]
    },
    {
      "cell_type": "code",
      "metadata": {
        "id": "k3oNEIsanuDl",
        "colab_type": "code",
        "colab": {}
      },
      "source": [
        ""
      ],
      "execution_count": null,
      "outputs": []
    },
    {
      "cell_type": "markdown",
      "metadata": {
        "id": "Ux4JCVS8nwD7",
        "colab_type": "text"
      },
      "source": [
        "#### Beware! Ordinal encoding works well with Tree Models but will ruin your linear models."
      ]
    },
    {
      "cell_type": "markdown",
      "metadata": {
        "colab_type": "text",
        "id": "Nd-ZWprasqUM"
      },
      "source": [
        "#### Ordinal Encoding, Logistic Regression, Validation Accuracy"
      ]
    },
    {
      "cell_type": "code",
      "metadata": {
        "colab_type": "code",
        "id": "GJ1YpwjvrhfL",
        "colab": {
          "base_uri": "https://localhost:8080/",
          "height": 34
        },
        "outputId": "40301c12-2a4b-4bbb-f561-bf21f9f32940"
      },
      "source": [
        "lr = make_pipeline(\n",
        "    ce.OrdinalEncoder(), \n",
        "    SimpleImputer(), \n",
        "    StandardScaler(), \n",
        "    LogisticRegressionCV(multi_class='auto', solver='lbfgs', cv=5, n_jobs=-1)\n",
        ")\n",
        "\n",
        "lr.fit(X_train[[feature]], y_train)\n",
        "score = lr.score(X_val[[feature]], y_val)\n",
        "print('Logistic Regression, Validation Accuracy', score)"
      ],
      "execution_count": null,
      "outputs": [
        {
          "output_type": "stream",
          "text": [
            "Logistic Regression, Validation Accuracy 0.5417508417508418\n"
          ],
          "name": "stdout"
        }
      ]
    },
    {
      "cell_type": "markdown",
      "metadata": {
        "colab_type": "text",
        "id": "9lO_R3SksuHs"
      },
      "source": [
        "#### Ordinal Encoding, Decision Tree, Validation Accuracy"
      ]
    },
    {
      "cell_type": "code",
      "metadata": {
        "colab_type": "code",
        "id": "aOELD_roriVI",
        "colab": {
          "base_uri": "https://localhost:8080/",
          "height": 34
        },
        "outputId": "2ab5eb63-e9c9-4fec-8ffb-56023ca6bcb8"
      },
      "source": [
        "dt = make_pipeline(\n",
        "    ce.OrdinalEncoder(), \n",
        "    SimpleImputer(), \n",
        "    DecisionTreeClassifier(random_state=42)\n",
        ")\n",
        "\n",
        "dt.fit(X_train[[feature]], y_train)\n",
        "score = dt.score(X_val[[feature]], y_val)\n",
        "print('Decision Tree, Validation Accuracy', score)"
      ],
      "execution_count": null,
      "outputs": [
        {
          "output_type": "stream",
          "text": [
            "Decision Tree, Validation Accuracy 0.6202861952861953\n"
          ],
          "name": "stdout"
        }
      ]
    },
    {
      "cell_type": "markdown",
      "metadata": {
        "colab_type": "text",
        "id": "7V2zHjiwswTg"
      },
      "source": [
        "#### Ordinal Encoding, Logistic Regression, Model Interpretation"
      ]
    },
    {
      "cell_type": "code",
      "metadata": {
        "colab_type": "code",
        "id": "S9UPYPois8QR",
        "colab": {
          "base_uri": "https://localhost:8080/",
          "height": 265
        },
        "outputId": "cea8ee58-fb8d-45a5-c66a-ab6299068a09"
      },
      "source": [
        "model = lr.named_steps['logisticregressioncv']\n",
        "encoder = lr.named_steps['ordinalencoder']\n",
        "encoded_columns = encoder.transform(X_val[[feature]]).columns\n",
        "coefficients = pd.Series(model.coef_[0], encoded_columns)\n",
        "coefficients.sort_values().plot.barh(color='grey');"
      ],
      "execution_count": null,
      "outputs": [
        {
          "output_type": "display_data",
          "data": {
            "image/png": "[encoded data removed]",
            "text/plain": [
              "<Figure size 432x288 with 1 Axes>"
            ]
          },
          "metadata": {
            "tags": [],
            "needs_background": "light"
          }
        }
      ]
    },
    {
      "cell_type": "markdown",
      "metadata": {
        "colab_type": "text",
        "id": "MvmmvE8fsymh"
      },
      "source": [
        "#### Ordinal Encoding, Decision Tree, Model Interpretation"
      ]
    },
    {
      "cell_type": "code",
      "metadata": {
        "colab_type": "code",
        "id": "jCvUu4Oms88b",
        "colab": {
          "base_uri": "https://localhost:8080/",
          "height": 816
        },
        "outputId": "b44b070f-ddce-4705-a248-1f65f973a9e9"
      },
      "source": [
        "model = dt.named_steps['decisiontreeclassifier']\n",
        "encoder = dt.named_steps['ordinalencoder']\n",
        "encoded_columns = encoder.transform(X_val[[feature]]).columns\n",
        "\n",
        "dot_data = export_graphviz(model, \n",
        "                           out_file=None, \n",
        "                           max_depth=5, \n",
        "                           feature_names=encoded_columns,\n",
        "                           class_names=model.classes_, \n",
        "                           impurity=False, \n",
        "                           filled=True, \n",
        "                           proportion=True, \n",
        "                           rounded=True)   \n",
        "display(graphviz.Source(dot_data))"
      ],
      "execution_count": null,
      "outputs": [
        {
          "output_type": "display_data",
          "data": {
            "text/plain": [
              "<graphviz.files.Source at 0x7f959bef2860>"
            ],
            "image/svg+xml": "<?xml version=\"1.0\" encoding=\"UTF-8\" standalone=\"no\"?>\n<!DOCTYPE svg PUBLIC \"-//W3C//DTD SVG 1.1//EN\"\n \"http://www.w3.org/Graphics/SVG/1.1/DTD/svg11.dtd\">\n<!-- Generated by graphviz version 2.40.1 (20161225.0304)\n -->\n<!-- Title: Tree Pages: 1 -->\n<svg width=\"1167pt\" height=\"581pt\"\n viewBox=\"0.00 0.00 1167.00 581.00\" xmlns=\"http://www.w3.org/2000/svg\" xmlns:xlink=\"http://www.w3.org/1999/xlink\">\n<g id=\"graph0\" class=\"graph\" transform=\"scale(1 1) rotate(0) translate(4 577)\">\n<title>Tree</title>\n<polygon fill=\"#ffffff\" stroke=\"transparent\" points=\"-4,4 -4,-577 1163,-577 1163,4 -4,4\"/>\n<!-- 0 -->\n<g id=\"node1\" class=\"node\">\n<title>0</title>\n<path fill=\"#f8decc\" stroke=\"#000000\" d=\"M500,-573C500,-573 322,-573 322,-573 316,-573 310,-567 310,-561 310,-561 310,-517 310,-517 310,-511 316,-505 322,-505 322,-505 500,-505 500,-505 506,-505 512,-511 512,-517 512,-517 512,-561 512,-561 512,-567 506,-573 500,-573\"/>\n<text text-anchor=\"middle\" x=\"411\" y=\"-557.8\" font-family=\"Helvetica,sans-Serif\" font-size=\"14.00\" fill=\"#000000\">extraction_type_class &lt;= 2.5</text>\n<text text-anchor=\"middle\" x=\"411\" y=\"-542.8\" font-family=\"Helvetica,sans-Serif\" font-size=\"14.00\" fill=\"#000000\">samples = 100.0%</text>\n<text text-anchor=\"middle\" x=\"411\" y=\"-527.8\" font-family=\"Helvetica,sans-Serif\" font-size=\"14.00\" fill=\"#000000\">value = [0.543, 0.073, 0.384]</text>\n<text text-anchor=\"middle\" x=\"411\" y=\"-512.8\" font-family=\"Helvetica,sans-Serif\" font-size=\"14.00\" fill=\"#000000\">class = functional</text>\n</g>\n<!-- 1 -->\n<g id=\"node2\" class=\"node\">\n<title>1</title>\n<path fill=\"#f4c7a8\" stroke=\"#000000\" d=\"M390,-469C390,-469 212,-469 212,-469 206,-469 200,-463 200,-457 200,-457 200,-413 200,-413 200,-407 206,-401 212,-401 212,-401 390,-401 390,-401 396,-401 402,-407 402,-413 402,-413 402,-457 402,-457 402,-463 396,-469 390,-469\"/>\n<text text-anchor=\"middle\" x=\"301\" y=\"-453.8\" font-family=\"Helvetica,sans-Serif\" font-size=\"14.00\" fill=\"#000000\">extraction_type_class &lt;= 1.5</text>\n<text text-anchor=\"middle\" x=\"301\" y=\"-438.8\" font-family=\"Helvetica,sans-Serif\" font-size=\"14.00\" fill=\"#000000\">samples = 72.9%</text>\n<text text-anchor=\"middle\" x=\"301\" y=\"-423.8\" font-family=\"Helvetica,sans-Serif\" font-size=\"14.00\" fill=\"#000000\">value = [0.611, 0.085, 0.304]</text>\n<text text-anchor=\"middle\" x=\"301\" y=\"-408.8\" font-family=\"Helvetica,sans-Serif\" font-size=\"14.00\" fill=\"#000000\">class = functional</text>\n</g>\n<!-- 0&#45;&gt;1 -->\n<g id=\"edge1\" class=\"edge\">\n<title>0&#45;&gt;1</title>\n<path fill=\"none\" stroke=\"#000000\" d=\"M374.9819,-504.9465C365.2954,-495.7884 354.7136,-485.7838 344.6603,-476.2788\"/>\n<polygon fill=\"#000000\" stroke=\"#000000\" points=\"346.7701,-473.4569 337.099,-469.13 341.961,-478.5434 346.7701,-473.4569\"/>\n<text text-anchor=\"middle\" x=\"337.7997\" y=\"-490.4202\" font-family=\"Helvetica,sans-Serif\" font-size=\"14.00\" fill=\"#000000\">True</text>\n</g>\n<!-- 4 -->\n<g id=\"node5\" class=\"node\">\n<title>4</title>\n<path fill=\"#d0b4f5\" stroke=\"#000000\" d=\"M610,-469C610,-469 432,-469 432,-469 426,-469 420,-463 420,-457 420,-457 420,-413 420,-413 420,-407 426,-401 432,-401 432,-401 610,-401 610,-401 616,-401 622,-407 622,-413 622,-413 622,-457 622,-457 622,-463 616,-469 610,-469\"/>\n<text text-anchor=\"middle\" x=\"521\" y=\"-453.8\" font-family=\"Helvetica,sans-Serif\" font-size=\"14.00\" fill=\"#000000\">extraction_type_class &lt;= 3.5</text>\n<text text-anchor=\"middle\" x=\"521\" y=\"-438.8\" font-family=\"Helvetica,sans-Serif\" font-size=\"14.00\" fill=\"#000000\">samples = 27.1%</text>\n<text text-anchor=\"middle\" x=\"521\" y=\"-423.8\" font-family=\"Helvetica,sans-Serif\" font-size=\"14.00\" fill=\"#000000\">value = [0.361, 0.038, 0.601]</text>\n<text text-anchor=\"middle\" x=\"521\" y=\"-408.8\" font-family=\"Helvetica,sans-Serif\" font-size=\"14.00\" fill=\"#000000\">class = non functional</text>\n</g>\n<!-- 0&#45;&gt;4 -->\n<g id=\"edge4\" class=\"edge\">\n<title>0&#45;&gt;4</title>\n<path fill=\"none\" stroke=\"#000000\" d=\"M447.0181,-504.9465C456.7046,-495.7884 467.2864,-485.7838 477.3397,-476.2788\"/>\n<polygon fill=\"#000000\" stroke=\"#000000\" points=\"480.039,-478.5434 484.901,-469.13 475.2299,-473.4569 480.039,-478.5434\"/>\n<text text-anchor=\"middle\" x=\"484.2003\" y=\"-490.4202\" font-family=\"Helvetica,sans-Serif\" font-size=\"14.00\" fill=\"#000000\">False</text>\n</g>\n<!-- 2 -->\n<g id=\"node3\" class=\"node\">\n<title>2</title>\n<path fill=\"#f4c9aa\" stroke=\"#000000\" d=\"M188,-357.5C188,-357.5 12,-357.5 12,-357.5 6,-357.5 0,-351.5 0,-345.5 0,-345.5 0,-316.5 0,-316.5 0,-310.5 6,-304.5 12,-304.5 12,-304.5 188,-304.5 188,-304.5 194,-304.5 200,-310.5 200,-316.5 200,-316.5 200,-345.5 200,-345.5 200,-351.5 194,-357.5 188,-357.5\"/>\n<text text-anchor=\"middle\" x=\"100\" y=\"-342.3\" font-family=\"Helvetica,sans-Serif\" font-size=\"14.00\" fill=\"#000000\">samples = 45.1%</text>\n<text text-anchor=\"middle\" x=\"100\" y=\"-327.3\" font-family=\"Helvetica,sans-Serif\" font-size=\"14.00\" fill=\"#000000\">value = [0.599, 0.101, 0.299]</text>\n<text text-anchor=\"middle\" x=\"100\" y=\"-312.3\" font-family=\"Helvetica,sans-Serif\" font-size=\"14.00\" fill=\"#000000\">class = functional</text>\n</g>\n<!-- 1&#45;&gt;2 -->\n<g id=\"edge2\" class=\"edge\">\n<title>1&#45;&gt;2</title>\n<path fill=\"none\" stroke=\"#000000\" d=\"M235.1851,-400.9465C211.1292,-388.4997 184.0513,-374.4892 160.4827,-362.2946\"/>\n<polygon fill=\"#000000\" stroke=\"#000000\" points=\"161.7878,-359.0291 151.2978,-357.5422 158.571,-365.2462 161.7878,-359.0291\"/>\n</g>\n<!-- 3 -->\n<g id=\"node4\" class=\"node\">\n<title>3</title>\n<path fill=\"#f3c5a3\" stroke=\"#000000\" d=\"M382,-357.5C382,-357.5 230,-357.5 230,-357.5 224,-357.5 218,-351.5 218,-345.5 218,-345.5 218,-316.5 218,-316.5 218,-310.5 224,-304.5 230,-304.5 230,-304.5 382,-304.5 382,-304.5 388,-304.5 394,-310.5 394,-316.5 394,-316.5 394,-345.5 394,-345.5 394,-351.5 388,-357.5 382,-357.5\"/>\n<text text-anchor=\"middle\" x=\"306\" y=\"-342.3\" font-family=\"Helvetica,sans-Serif\" font-size=\"14.00\" fill=\"#000000\">samples = 27.7%</text>\n<text text-anchor=\"middle\" x=\"306\" y=\"-327.3\" font-family=\"Helvetica,sans-Serif\" font-size=\"14.00\" fill=\"#000000\">value = [0.63, 0.06, 0.31]</text>\n<text text-anchor=\"middle\" x=\"306\" y=\"-312.3\" font-family=\"Helvetica,sans-Serif\" font-size=\"14.00\" fill=\"#000000\">class = functional</text>\n</g>\n<!-- 1&#45;&gt;3 -->\n<g id=\"edge3\" class=\"edge\">\n<title>1&#45;&gt;3</title>\n<path fill=\"none\" stroke=\"#000000\" d=\"M302.6372,-400.9465C303.1509,-390.2621 303.7199,-378.4254 304.2416,-367.5742\"/>\n<polygon fill=\"#000000\" stroke=\"#000000\" points=\"307.7396,-367.6987 304.7239,-357.5422 300.7477,-367.3625 307.7396,-367.6987\"/>\n</g>\n<!-- 5 -->\n<g id=\"node6\" class=\"node\">\n<title>5</title>\n<path fill=\"#9d66eb\" stroke=\"#000000\" d=\"M601,-357.5C601,-357.5 433,-357.5 433,-357.5 427,-357.5 421,-351.5 421,-345.5 421,-345.5 421,-316.5 421,-316.5 421,-310.5 427,-304.5 433,-304.5 433,-304.5 601,-304.5 601,-304.5 607,-304.5 613,-310.5 613,-316.5 613,-316.5 613,-345.5 613,-345.5 613,-351.5 607,-357.5 601,-357.5\"/>\n<text text-anchor=\"middle\" x=\"517\" y=\"-342.3\" font-family=\"Helvetica,sans-Serif\" font-size=\"14.00\" fill=\"#000000\">samples = 10.9%</text>\n<text text-anchor=\"middle\" x=\"517\" y=\"-327.3\" font-family=\"Helvetica,sans-Serif\" font-size=\"14.00\" fill=\"#000000\">value = [0.159, 0.031, 0.81]</text>\n<text text-anchor=\"middle\" x=\"517\" y=\"-312.3\" font-family=\"Helvetica,sans-Serif\" font-size=\"14.00\" fill=\"#000000\">class = non functional</text>\n</g>\n<!-- 4&#45;&gt;5 -->\n<g id=\"edge5\" class=\"edge\">\n<title>4&#45;&gt;5</title>\n<path fill=\"none\" stroke=\"#000000\" d=\"M519.6903,-400.9465C519.2793,-390.2621 518.8241,-378.4254 518.4067,-367.5742\"/>\n<polygon fill=\"#000000\" stroke=\"#000000\" points=\"521.9027,-367.4002 518.0209,-357.5422 514.9079,-367.6693 521.9027,-367.4002\"/>\n</g>\n<!-- 6 -->\n<g id=\"node7\" class=\"node\">\n<title>6</title>\n<path fill=\"#fdf7f2\" stroke=\"#000000\" d=\"M821,-365C821,-365 643,-365 643,-365 637,-365 631,-359 631,-353 631,-353 631,-309 631,-309 631,-303 637,-297 643,-297 643,-297 821,-297 821,-297 827,-297 833,-303 833,-309 833,-309 833,-353 833,-353 833,-359 827,-365 821,-365\"/>\n<text text-anchor=\"middle\" x=\"732\" y=\"-349.8\" font-family=\"Helvetica,sans-Serif\" font-size=\"14.00\" fill=\"#000000\">extraction_type_class &lt;= 4.5</text>\n<text text-anchor=\"middle\" x=\"732\" y=\"-334.8\" font-family=\"Helvetica,sans-Serif\" font-size=\"14.00\" fill=\"#000000\">samples = 16.2%</text>\n<text text-anchor=\"middle\" x=\"732\" y=\"-319.8\" font-family=\"Helvetica,sans-Serif\" font-size=\"14.00\" fill=\"#000000\">value = [0.497, 0.043, 0.46]</text>\n<text text-anchor=\"middle\" x=\"732\" y=\"-304.8\" font-family=\"Helvetica,sans-Serif\" font-size=\"14.00\" fill=\"#000000\">class = functional</text>\n</g>\n<!-- 4&#45;&gt;6 -->\n<g id=\"edge6\" class=\"edge\">\n<title>4&#45;&gt;6</title>\n<path fill=\"none\" stroke=\"#000000\" d=\"M590.0893,-400.9465C610.4002,-390.9354 632.7633,-379.9129 653.6112,-369.6371\"/>\n<polygon fill=\"#000000\" stroke=\"#000000\" points=\"655.3332,-372.6905 662.7555,-365.13 652.2385,-366.4117 655.3332,-372.6905\"/>\n</g>\n<!-- 7 -->\n<g id=\"node8\" class=\"node\">\n<title>7</title>\n<path fill=\"#d8c1f7\" stroke=\"#000000\" d=\"M710,-253.5C710,-253.5 534,-253.5 534,-253.5 528,-253.5 522,-247.5 522,-241.5 522,-241.5 522,-212.5 522,-212.5 522,-206.5 528,-200.5 534,-200.5 534,-200.5 710,-200.5 710,-200.5 716,-200.5 722,-206.5 722,-212.5 722,-212.5 722,-241.5 722,-241.5 722,-247.5 716,-253.5 710,-253.5\"/>\n<text text-anchor=\"middle\" x=\"622\" y=\"-238.3\" font-family=\"Helvetica,sans-Serif\" font-size=\"14.00\" fill=\"#000000\">samples = 5.0%</text>\n<text text-anchor=\"middle\" x=\"622\" y=\"-223.3\" font-family=\"Helvetica,sans-Serif\" font-size=\"14.00\" fill=\"#000000\">value = [0.381, 0.045, 0.574]</text>\n<text text-anchor=\"middle\" x=\"622\" y=\"-208.3\" font-family=\"Helvetica,sans-Serif\" font-size=\"14.00\" fill=\"#000000\">class = non functional</text>\n</g>\n<!-- 6&#45;&gt;7 -->\n<g id=\"edge7\" class=\"edge\">\n<title>6&#45;&gt;7</title>\n<path fill=\"none\" stroke=\"#000000\" d=\"M695.9819,-296.9465C683.6325,-285.2707 669.8278,-272.219 657.5183,-260.5809\"/>\n<polygon fill=\"#000000\" stroke=\"#000000\" points=\"659.7445,-257.869 650.0734,-253.5422 654.9354,-262.9556 659.7445,-257.869\"/>\n</g>\n<!-- 8 -->\n<g id=\"node9\" class=\"node\">\n<title>8</title>\n<path fill=\"#f9e2d1\" stroke=\"#000000\" d=\"M930,-261C930,-261 752,-261 752,-261 746,-261 740,-255 740,-249 740,-249 740,-205 740,-205 740,-199 746,-193 752,-193 752,-193 930,-193 930,-193 936,-193 942,-199 942,-205 942,-205 942,-249 942,-249 942,-255 936,-261 930,-261\"/>\n<text text-anchor=\"middle\" x=\"841\" y=\"-245.8\" font-family=\"Helvetica,sans-Serif\" font-size=\"14.00\" fill=\"#000000\">extraction_type_class &lt;= 5.5</text>\n<text text-anchor=\"middle\" x=\"841\" y=\"-230.8\" font-family=\"Helvetica,sans-Serif\" font-size=\"14.00\" fill=\"#000000\">samples = 11.2%</text>\n<text text-anchor=\"middle\" x=\"841\" y=\"-215.8\" font-family=\"Helvetica,sans-Serif\" font-size=\"14.00\" fill=\"#000000\">value = [0.548, 0.042, 0.41]</text>\n<text text-anchor=\"middle\" x=\"841\" y=\"-200.8\" font-family=\"Helvetica,sans-Serif\" font-size=\"14.00\" fill=\"#000000\">class = functional</text>\n</g>\n<!-- 6&#45;&gt;8 -->\n<g id=\"edge8\" class=\"edge\">\n<title>6&#45;&gt;8</title>\n<path fill=\"none\" stroke=\"#000000\" d=\"M767.6907,-296.9465C777.2891,-287.7884 787.7747,-277.7838 797.7366,-268.2788\"/>\n<polygon fill=\"#000000\" stroke=\"#000000\" points=\"800.4102,-270.5655 805.2291,-261.13 795.5779,-265.5009 800.4102,-270.5655\"/>\n</g>\n<!-- 9 -->\n<g id=\"node10\" class=\"node\">\n<title>9</title>\n<path fill=\"#f9e4d5\" stroke=\"#000000\" d=\"M819,-149.5C819,-149.5 643,-149.5 643,-149.5 637,-149.5 631,-143.5 631,-137.5 631,-137.5 631,-108.5 631,-108.5 631,-102.5 637,-96.5 643,-96.5 643,-96.5 819,-96.5 819,-96.5 825,-96.5 831,-102.5 831,-108.5 831,-108.5 831,-137.5 831,-137.5 831,-143.5 825,-149.5 819,-149.5\"/>\n<text text-anchor=\"middle\" x=\"731\" y=\"-134.3\" font-family=\"Helvetica,sans-Serif\" font-size=\"14.00\" fill=\"#000000\">samples = 10.3%</text>\n<text text-anchor=\"middle\" x=\"731\" y=\"-119.3\" font-family=\"Helvetica,sans-Serif\" font-size=\"14.00\" fill=\"#000000\">value = [0.541, 0.042, 0.416]</text>\n<text text-anchor=\"middle\" x=\"731\" y=\"-104.3\" font-family=\"Helvetica,sans-Serif\" font-size=\"14.00\" fill=\"#000000\">class = functional</text>\n</g>\n<!-- 8&#45;&gt;9 -->\n<g id=\"edge9\" class=\"edge\">\n<title>8&#45;&gt;9</title>\n<path fill=\"none\" stroke=\"#000000\" d=\"M804.9819,-192.9465C792.6325,-181.2707 778.8278,-168.219 766.5183,-156.5809\"/>\n<polygon fill=\"#000000\" stroke=\"#000000\" points=\"768.7445,-153.869 759.0734,-149.5422 763.9354,-158.9556 768.7445,-153.869\"/>\n</g>\n<!-- 10 -->\n<g id=\"node11\" class=\"node\">\n<title>10</title>\n<path fill=\"#f4cbad\" stroke=\"#000000\" d=\"M1039,-157C1039,-157 861,-157 861,-157 855,-157 849,-151 849,-145 849,-145 849,-101 849,-101 849,-95 855,-89 861,-89 861,-89 1039,-89 1039,-89 1045,-89 1051,-95 1051,-101 1051,-101 1051,-145 1051,-145 1051,-151 1045,-157 1039,-157\"/>\n<text text-anchor=\"middle\" x=\"950\" y=\"-141.8\" font-family=\"Helvetica,sans-Serif\" font-size=\"14.00\" fill=\"#000000\">extraction_type_class &lt;= 6.5</text>\n<text text-anchor=\"middle\" x=\"950\" y=\"-126.8\" font-family=\"Helvetica,sans-Serif\" font-size=\"14.00\" fill=\"#000000\">samples = 0.9%</text>\n<text text-anchor=\"middle\" x=\"950\" y=\"-111.8\" font-family=\"Helvetica,sans-Serif\" font-size=\"14.00\" fill=\"#000000\">value = [0.614, 0.043, 0.343]</text>\n<text text-anchor=\"middle\" x=\"950\" y=\"-96.8\" font-family=\"Helvetica,sans-Serif\" font-size=\"14.00\" fill=\"#000000\">class = functional</text>\n</g>\n<!-- 8&#45;&gt;10 -->\n<g id=\"edge10\" class=\"edge\">\n<title>8&#45;&gt;10</title>\n<path fill=\"none\" stroke=\"#000000\" d=\"M876.6907,-192.9465C886.2891,-183.7884 896.7747,-173.7838 906.7366,-164.2788\"/>\n<polygon fill=\"#000000\" stroke=\"#000000\" points=\"909.4102,-166.5655 914.2291,-157.13 904.5779,-161.5009 909.4102,-166.5655\"/>\n</g>\n<!-- 11 -->\n<g id=\"node12\" class=\"node\">\n<title>11</title>\n<path fill=\"#f2bf9b\" stroke=\"#000000\" d=\"M929,-53C929,-53 753,-53 753,-53 747,-53 741,-47 741,-41 741,-41 741,-12 741,-12 741,-6 747,0 753,0 753,0 929,0 929,0 935,0 941,-6 941,-12 941,-12 941,-41 941,-41 941,-47 935,-53 929,-53\"/>\n<text text-anchor=\"middle\" x=\"841\" y=\"-37.8\" font-family=\"Helvetica,sans-Serif\" font-size=\"14.00\" fill=\"#000000\">samples = 0.7%</text>\n<text text-anchor=\"middle\" x=\"841\" y=\"-22.8\" font-family=\"Helvetica,sans-Serif\" font-size=\"14.00\" fill=\"#000000\">value = [0.657, 0.037, 0.306]</text>\n<text text-anchor=\"middle\" x=\"841\" y=\"-7.8\" font-family=\"Helvetica,sans-Serif\" font-size=\"14.00\" fill=\"#000000\">class = functional</text>\n</g>\n<!-- 10&#45;&gt;11 -->\n<g id=\"edge11\" class=\"edge\">\n<title>10&#45;&gt;11</title>\n<path fill=\"none\" stroke=\"#000000\" d=\"M911.5707,-88.9777C900.9173,-79.546 889.3641,-69.3178 878.7499,-59.9208\"/>\n<polygon fill=\"#000000\" stroke=\"#000000\" points=\"881.0207,-57.2566 871.2133,-53.2485 876.3806,-62.4978 881.0207,-57.2566\"/>\n</g>\n<!-- 12 -->\n<g id=\"node13\" class=\"node\">\n<title>12</title>\n<path fill=\"#f8f3fd\" stroke=\"#000000\" d=\"M1147,-53C1147,-53 971,-53 971,-53 965,-53 959,-47 959,-41 959,-41 959,-12 959,-12 959,-6 965,0 971,0 971,0 1147,0 1147,0 1153,0 1159,-6 1159,-12 1159,-12 1159,-41 1159,-41 1159,-47 1153,-53 1147,-53\"/>\n<text text-anchor=\"middle\" x=\"1059\" y=\"-37.8\" font-family=\"Helvetica,sans-Serif\" font-size=\"14.00\" fill=\"#000000\">samples = 0.2%</text>\n<text text-anchor=\"middle\" x=\"1059\" y=\"-22.8\" font-family=\"Helvetica,sans-Serif\" font-size=\"14.00\" fill=\"#000000\">value = [0.452, 0.065, 0.484]</text>\n<text text-anchor=\"middle\" x=\"1059\" y=\"-7.8\" font-family=\"Helvetica,sans-Serif\" font-size=\"14.00\" fill=\"#000000\">class = non functional</text>\n</g>\n<!-- 10&#45;&gt;12 -->\n<g id=\"edge12\" class=\"edge\">\n<title>10&#45;&gt;12</title>\n<path fill=\"none\" stroke=\"#000000\" d=\"M988.4293,-88.9777C999.0827,-79.546 1010.6359,-69.3178 1021.2501,-59.9208\"/>\n<polygon fill=\"#000000\" stroke=\"#000000\" points=\"1023.6194,-62.4978 1028.7867,-53.2485 1018.9793,-57.2566 1023.6194,-62.4978\"/>\n</g>\n</g>\n</svg>\n"
          },
          "metadata": {
            "tags": []
          }
        }
      ]
    },
    {
      "cell_type": "code",
      "metadata": {
        "id": "pU8Mq4JcKuz5",
        "colab_type": "code",
        "colab": {
          "base_uri": "https://localhost:8080/",
          "height": 34
        },
        "outputId": "12a4da61-2d22-4334-ff5b-6c6166cfeff8"
      },
      "source": [
        "dt.named_steps['decisiontreeclassifier'].feature_importances_"
      ],
      "execution_count": null,
      "outputs": [
        {
          "output_type": "execute_result",
          "data": {
            "text/plain": [
              "array([1.])"
            ]
          },
          "metadata": {
            "tags": []
          },
          "execution_count": 76
        }
      ]
    },
    {
      "cell_type": "markdown",
      "metadata": {
        "colab_type": "text",
        "id": "P4EJi2GvgLVa"
      },
      "source": [
        "# Understand how tree ensembles reduce overfitting compared to a single decision tree with unlimited depth"
      ]
    },
    {
      "cell_type": "markdown",
      "metadata": {
        "id": "axvjYtRv9Epu",
        "colab_type": "text"
      },
      "source": [
        "## Overview"
      ]
    },
    {
      "cell_type": "markdown",
      "metadata": {
        "colab_type": "text",
        "id": "0nNABF3HgLVg"
      },
      "source": [
        "### What's \"random\" about random forests?\n",
        "1. Each tree trains on a random bootstrap sample of the data. (In scikit-learn, for `RandomForestRegressor` and `RandomForestClassifier`, the `bootstrap` parameter's default is `True`.) This type of ensembling is called Bagging. (Bootstrap AGGregatING.)\n",
        "2. Each split considers a random subset of the features. (In scikit-learn, when the `max_features` parameter is not `None`.) \n",
        "\n",
        "For extra randomness, you can try [\"extremely randomized trees\"](https://scikit-learn.org/stable/modules/ensemble.html#extremely-randomized-trees)!\n",
        "\n",
        ">In extremely randomized trees (see [ExtraTreesClassifier](https://scikit-learn.org/stable/modules/generated/sklearn.ensemble.ExtraTreesClassifier.html) and [ExtraTreesRegressor](https://scikit-learn.org/stable/modules/generated/sklearn.ensemble.ExtraTreesRegressor.html) classes), randomness goes one step further in the way splits are computed. As in random forests, a random subset of candidate features is used, but instead of looking for the most discriminative thresholds, thresholds are drawn at random for each candidate feature and the best of these randomly-generated thresholds is picked as the splitting rule. This usually allows to reduce the variance of the model a bit more, at the expense of a slightly greater increase in bias"
      ]
    },
    {
      "cell_type": "markdown",
      "metadata": {
        "id": "n5YM9H1epRPN",
        "colab_type": "text"
      },
      "source": [
        "![](https://github.com/austinlasseter/DS-Unit-2-Kaggle-Challenge/blob/master/module2-random-forests/bagging_boosting.png?raw=1)"
      ]
    },
    {
      "cell_type": "markdown",
      "metadata": {
        "id": "SABL5fg09Epv",
        "colab_type": "text"
      },
      "source": [
        "## Follow Along"
      ]
    },
    {
      "cell_type": "markdown",
      "metadata": {
        "colab_type": "text",
        "id": "pUYP619CgLVb"
      },
      "source": [
        "### Example: [predicting golf putts](https://statmodeling.stat.columbia.edu/2008/12/04/the_golf_puttin/)\n",
        "(1 feature, non-linear, regression)"
      ]
    },
    {
      "cell_type": "code",
      "metadata": {
        "colab_type": "code",
        "id": "b4640ukxgLVc",
        "colab": {}
      },
      "source": [
        "putts = pd.DataFrame(\n",
        "    columns=['distance', 'tries', 'successes'], \n",
        "    data = [[2, 1443, 1346],\n",
        "            [3, 694, 577],\n",
        "            [4, 455, 337],\n",
        "            [5, 353, 208],\n",
        "            [6, 272, 149],\n",
        "            [7, 256, 136],\n",
        "            [8, 240, 111],\n",
        "            [9, 217, 69],\n",
        "            [10, 200, 67],\n",
        "            [11, 237, 75],\n",
        "            [12, 202, 52],\n",
        "            [13, 192, 46],\n",
        "            [14, 174, 54],\n",
        "            [15, 167, 28],\n",
        "            [16, 201, 27],\n",
        "            [17, 195, 31],\n",
        "            [18, 191, 33],\n",
        "            [19, 147, 20],\n",
        "            [20, 152, 24]]\n",
        ")\n",
        "\n",
        "putts['rate of success'] = putts['successes'] / putts['tries']\n",
        "putts_X = putts[['distance']]\n",
        "putts_y = putts['rate of success']"
      ],
      "execution_count": null,
      "outputs": []
    },
    {
      "cell_type": "code",
      "metadata": {
        "colab_type": "code",
        "id": "T0IpCcKggLVd",
        "colab": {
          "base_uri": "https://localhost:8080/",
          "height": 637,
          "referenced_widgets": [
            "b59aaf9487754eea800b4fc9624cd319",
            "09403b9213124c3aa85c18bdb14691e4",
            "10bfc64a33fe47c8bf443023667b5035",
            "535f70d3a247436186028baceebbcd98",
            "cf8921b2df74441896d88b91682233c7",
            "da3bbb93c21142c8a34080e19ce0741a",
            "c66c3e8e63aa477dad1f9bfe386a7d49",
            "b7834655d12143359bd699d1548c5a7a",
            "b790452d6b844143818faa8219925611",
            "3ae1cea82d4c4afd8c36ae0b0b083e05"
          ]
        },
        "outputId": "65802702-6da6-4f34-b845-b390160eb01b"
      },
      "source": [
        "%matplotlib inline\n",
        "import matplotlib.pyplot as plt\n",
        "from ipywidgets import interact\n",
        "from sklearn.ensemble import RandomForestRegressor\n",
        "from sklearn.tree import DecisionTreeRegressor\n",
        "\n",
        "def putt_trees(max_depth=1, n_estimators=1):\n",
        "    models = [DecisionTreeRegressor(max_depth=max_depth), \n",
        "              RandomForestRegressor(max_depth=max_depth, n_estimators=n_estimators)]\n",
        "    \n",
        "    for model in models:\n",
        "        name = model.__class__.__name__\n",
        "        model.fit(putts_X, putts_y)\n",
        "        ax = putts.plot('distance', 'rate of success', kind='scatter', title=name)\n",
        "        ax.step(putts_X, model.predict(putts_X), where='mid')\n",
        "        plt.show()\n",
        "        \n",
        "interact(putt_trees, max_depth=(1,6,1), n_estimators=(10,40,10));"
      ],
      "execution_count": null,
      "outputs": [
        {
          "output_type": "display_data",
          "data": {
            "application/vnd.jupyter.widget-view+json": {
              "model_id": "b59aaf9487754eea800b4fc9624cd319",
              "version_minor": 0,
              "version_major": 2
            },
            "text/plain": [
              "interactive(children=(IntSlider(value=1, description='max_depth', max=6, min=1), IntSlider(value=10, descripti…"
            ]
          },
          "metadata": {
            "tags": []
          }
        }
      ]
    },
    {
      "cell_type": "markdown",
      "metadata": {
        "colab_type": "text",
        "id": "_KgZK9_9gLVh"
      },
      "source": [
        "### Bagging demo, with golf putts data\n",
        "https://pandas.pydata.org/pandas-docs/stable/reference/api/pandas.DataFrame.sample.html"
      ]
    },
    {
      "cell_type": "code",
      "metadata": {
        "colab_type": "code",
        "id": "vA9mrSTNgLVi",
        "scrolled": false,
        "colab": {
          "base_uri": "https://localhost:8080/",
          "height": 915,
          "referenced_widgets": [
            "660573ae5d624e65bac2003117885a01",
            "bb7f9a10be564c12a5737e67290e093e",
            "8e82ed30fba0433ea7e43c26a89dfa64",
            "0db5a41fc5d642178b412d4616ece29a",
            "8ba38d98241240bb9b8d2e7fea9663a0",
            "ec0cf801eb18470fa5f7685f894b05c9",
            "cd899cd117bf414eb09c386216d19195",
            "44e83bde961c41b1bce9ddbd5d74d15a",
            "6d99ecbd84494ce0b0c60f6d43b57d94",
            "70c8e9f8bcba42cc92b22f1be739e4e4"
          ]
        },
        "outputId": "6d577029-97d8-4b31-a872-8f4ddd54f421"
      },
      "source": [
        "# Do-it-yourself Bagging Ensemble of Decision Trees (like a Random Forest)\n",
        "def diy_bagging(max_depth=1, n_estimators=1):\n",
        "    y_preds = []\n",
        "    for i in range(n_estimators):\n",
        "        title = f'Tree {i+1}'\n",
        "        bootstrap_sample = putts.sample(n=len(putts), replace=True).sort_values(by='distance')\n",
        "        bootstrap_X = bootstrap_sample[['distance']]\n",
        "        bootstrap_y = bootstrap_sample['rate of success']\n",
        "        tree = DecisionTreeRegressor(max_depth=max_depth)\n",
        "        tree.fit(bootstrap_X, bootstrap_y)\n",
        "        y_pred = tree.predict(bootstrap_X)\n",
        "        y_preds.append(y_pred)\n",
        "        ax = bootstrap_sample.plot('distance', 'rate of success', kind='scatter', title=title)\n",
        "        ax.step(bootstrap_X, y_pred, where='mid')\n",
        "        plt.show()\n",
        "        \n",
        "    ensembled = np.vstack(y_preds).mean(axis=0)\n",
        "    title = f'Ensemble of {n_estimators} trees, with max_depth={max_depth}'\n",
        "    ax = putts.plot('distance', 'rate of success', kind='scatter', title=title)\n",
        "    ax.step(putts_X, ensembled, where='mid')\n",
        "    plt.show()\n",
        "    \n",
        "interact(diy_bagging, max_depth=(1,6,1), n_estimators=(2,5,1));"
      ],
      "execution_count": null,
      "outputs": [
        {
          "output_type": "display_data",
          "data": {
            "application/vnd.jupyter.widget-view+json": {
              "model_id": "660573ae5d624e65bac2003117885a01",
              "version_minor": 0,
              "version_major": 2
            },
            "text/plain": [
              "interactive(children=(IntSlider(value=1, description='max_depth', max=6, min=1), IntSlider(value=2, descriptio…"
            ]
          },
          "metadata": {
            "tags": []
          }
        }
      ]
    },
    {
      "cell_type": "markdown",
      "metadata": {
        "colab_type": "text",
        "id": "rq4Z_wQ_gLVj"
      },
      "source": [
        "### Go back to Tanzania Waterpumps ..."
      ]
    },
    {
      "cell_type": "markdown",
      "metadata": {
        "colab_type": "text",
        "id": "FoSE9iT6YXQz"
      },
      "source": [
        "#### Helper function to visualize predicted probabilities\n",
        "\n"
      ]
    },
    {
      "cell_type": "code",
      "metadata": {
        "colab_type": "code",
        "id": "HzIAjGpJgLVj",
        "colab": {}
      },
      "source": [
        "import itertools\n",
        "import seaborn as sns\n",
        "\n",
        "def pred_heatmap(model, X, features, class_index=-1, title='', num=100):\n",
        "    \"\"\"\n",
        "    Visualize predicted probabilities, for classifier fit on 2 numeric features\n",
        "    \n",
        "    Parameters\n",
        "    ----------\n",
        "    model : scikit-learn classifier, already fit\n",
        "    X : pandas dataframe, which was used to fit model\n",
        "    features : list of strings, column names of the 2 numeric features\n",
        "    class_index : integer, index of class label\n",
        "    title : string, title of plot\n",
        "    num : int, number of grid points for each feature\n",
        "    \n",
        "    Returns\n",
        "    -------\n",
        "    y_pred_proba : numpy array, predicted probabilities for class_index\n",
        "    \"\"\"\n",
        "    feature1, feature2 = features\n",
        "    min1, max1 = X[feature1].min(), X[feature1].max()\n",
        "    min2, max2 = X[feature2].min(), X[feature2].max()\n",
        "    x1 = np.linspace(min1, max1, num)\n",
        "    x2 = np.linspace(max2, min2, num)\n",
        "    combos = list(itertools.product(x1, x2))\n",
        "    y_pred_proba = model.predict_proba(combos)[:, class_index]\n",
        "    pred_grid = y_pred_proba.reshape(num, num).T\n",
        "    table = pd.DataFrame(pred_grid, columns=x1, index=x2)\n",
        "    sns.heatmap(table, vmin=0, vmax=1)\n",
        "    plt.xticks([])\n",
        "    plt.yticks([])\n",
        "    plt.xlabel(feature1)\n",
        "    plt.ylabel(feature2)\n",
        "    plt.title(title)\n",
        "    plt.show()\n",
        "    return y_pred_proba\n"
      ],
      "execution_count": null,
      "outputs": []
    },
    {
      "cell_type": "markdown",
      "metadata": {
        "colab_type": "text",
        "id": "DiRfPqHjgLVl"
      },
      "source": [
        "### Compare Decision Tree, Random Forest, Logistic Regression"
      ]
    },
    {
      "cell_type": "code",
      "metadata": {
        "id": "JWg8xjaWs81a",
        "colab_type": "code",
        "colab": {
          "base_uri": "https://localhost:8080/",
          "height": 170
        },
        "outputId": "48991261-14ce-4f61-ad7e-2c24c488fe1a"
      },
      "source": [
        "# remind me, what were the features in our models?\n",
        "print(np.unique(features))"
      ],
      "execution_count": null,
      "outputs": [
        {
          "output_type": "stream",
          "text": [
            "['amount_tsh' 'basin' 'construction_year' 'construction_year_MISSING'\n",
            " 'day_recorded' 'district_code' 'extraction_type' 'extraction_type_class'\n",
            " 'extraction_type_group' 'gps_height' 'gps_height_MISSING' 'latitude'\n",
            " 'latitude_MISSING' 'longitude' 'longitude_MISSING' 'management'\n",
            " 'management_group' 'month_recorded' 'num_private' 'payment' 'permit'\n",
            " 'population' 'population_MISSING' 'public_meeting' 'quality_group'\n",
            " 'quantity' 'region' 'region_code' 'scheme_management' 'source'\n",
            " 'source_class' 'source_type' 'water_quality' 'waterpoint_type'\n",
            " 'waterpoint_type_group' 'year_recorded' 'years' 'years_MISSING']\n"
          ],
          "name": "stdout"
        }
      ]
    },
    {
      "cell_type": "code",
      "metadata": {
        "colab_type": "code",
        "id": "HKkMLXhMgLVl",
        "colab": {
          "base_uri": "https://localhost:8080/",
          "height": 864,
          "referenced_widgets": [
            "f906196ebbc64a339b1e5c37e4205744",
            "a4724f0ac9b9473eb7ac3d4a27e84331",
            "52f19ffaa44543a596639125cc56ebf2",
            "0e0f64541d6e455ab18c0e241736bf70",
            "3b1b7ebdc5ea468a8984f1e2a1e59cb6",
            "21df07305de540d3b84d89bf6d2bd378",
            "c67f0b7a41fe40c3841c5eee4d27e611",
            "09da6f9d0a7c4d479984ae8d36ffd6ae",
            "89ff86aaf19341e0bb1a56cc3c30d9ec",
            "68cdeeea629c4239bc80c74a5f23df39"
          ]
        },
        "outputId": "3fd93152-1efe-4a3d-afe7-09be08fff6fc"
      },
      "source": [
        "# Instructions\n",
        "# 1. Choose two features\n",
        "# 2. Run this code cell\n",
        "# 3. Interact with the widget sliders\n",
        "feature1 = 'longitude'\n",
        "feature2 = 'quantity'\n",
        "\n",
        "from sklearn.linear_model import LogisticRegression\n",
        "from sklearn.tree import DecisionTreeClassifier\n",
        "\n",
        "def get_X_y(df, feature1, feature2, target):\n",
        "    features = [feature1, feature2]\n",
        "    X = df[features]\n",
        "    y = df[target]\n",
        "    X = X.fillna(X.median())\n",
        "    X = ce.OrdinalEncoder().fit_transform(X)\n",
        "    return X, y\n",
        "\n",
        "def compare_models(max_depth=1, n_estimators=1):\n",
        "    models = [DecisionTreeClassifier(max_depth=max_depth), \n",
        "              RandomForestClassifier(max_depth=max_depth, n_estimators=n_estimators), \n",
        "              LogisticRegression(solver='lbfgs', multi_class='auto')]\n",
        "    \n",
        "    for model in models:\n",
        "        name = model.__class__.__name__\n",
        "        model.fit(X, y)\n",
        "        pred_heatmap(model, X, [feature1, feature2], class_index=0, title=name)\n",
        "\n",
        "X, y = get_X_y(train, feature1, feature2, target='status_group')\n",
        "interact(compare_models, max_depth=(1,6,1), n_estimators=(10,40,10));"
      ],
      "execution_count": null,
      "outputs": [
        {
          "output_type": "display_data",
          "data": {
            "application/vnd.jupyter.widget-view+json": {
              "model_id": "f906196ebbc64a339b1e5c37e4205744",
              "version_minor": 0,
              "version_major": 2
            },
            "text/plain": [
              "interactive(children=(IntSlider(value=1, description='max_depth', max=6, min=1), IntSlider(value=10, descripti…"
            ]
          },
          "metadata": {
            "tags": []
          }
        }
      ]
    },
    {
      "cell_type": "markdown",
      "metadata": {
        "colab_type": "text",
        "id": "wYoSBi15akWP"
      },
      "source": [
        "# Review\n",
        "\n",
        "#### Try Tree Ensembles when you do machine learning with labeled, tabular data\n",
        "- \"Tree Ensembles\" means Random Forest or Gradient Boosting models. \n",
        "- [Tree Ensembles often have the best predictive accuracy](https://arxiv.org/abs/1708.05070) with labeled, tabular data.\n",
        "- Why? Because trees can fit non-linear, non-[monotonic](https://en.wikipedia.org/wiki/Monotonic_function) relationships, and [interactions](https://christophm.github.io/interpretable-ml-book/interaction.html) between features.\n",
        "- A single decision tree, grown to unlimited depth, will [overfit](http://www.r2d3.us/visual-intro-to-machine-learning-part-1/). We solve this problem by ensembling trees, with bagging (Random Forest) or boosting (Gradient Boosting).\n",
        "- Random Forest's advantage: may be less sensitive to hyperparameters. Gradient Boosting's advantage: may get better predictive accuracy.\n",
        "\n",
        "#### One-hot encoding isn’t the only way, and may not be the best way, of categorical encoding for tree ensembles.\n",
        "- For example, tree ensembles can work with arbitrary \"ordinal\" encoding! (Randomly assigning an integer to each category.) Compared to one-hot encoding, the dimensionality will be lower, and the predictive accuracy may be just as good or even better.\n"
      ]
    },
    {
      "cell_type": "code",
      "metadata": {
        "id": "UvyssOTwRN5T",
        "colab_type": "code",
        "colab": {}
      },
      "source": [
        ""
      ],
      "execution_count": null,
      "outputs": []
    }
  ]
}